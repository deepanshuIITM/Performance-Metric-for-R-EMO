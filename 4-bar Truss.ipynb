{
 "cells": [
  {
   "cell_type": "markdown",
   "metadata": {},
   "source": [
    "# Updated Performance Measure ($\\hat{R}$-HV) for R-EMO Algorithms"
   ]
  },
  {
   "cell_type": "markdown",
   "metadata": {},
   "source": [
    "## Prerequisite"
   ]
  },
  {
   "cell_type": "code",
   "execution_count": 1,
   "metadata": {},
   "outputs": [],
   "source": [
    "import numpy as np\n",
    "import math as ma\n",
    "import scipy\n",
    "import random\n",
    "from pymoo.indicators.hv import HV\n",
    "from pymoo.core.problem import Problem\n",
    "from pymoo.algorithms.moo.nsga3 import NSGA3\n",
    "from pymoo.algorithms.moo.nsga2 import NSGA2\n",
    "from pymoo.algorithms.moo.rnsga2 import RNSGA2\n",
    "from pymoo.algorithms.moo.rnsga3 import RNSGA3\n",
    "from pymoo.algorithms.moo.moead import MOEAD\n",
    "from pymoo.algorithms.moo.rvea import RVEA\n",
    "from pymoo.algorithms.moo.ctaea import CTAEA\n",
    "from pymoo.factory import get_sampling, get_crossover, get_mutation\n",
    "from pymoo.core.problem import ElementwiseProblem\n",
    "from pymoo.factory import get_problem, get_reference_directions\n",
    "from pymoo.util.ref_dirs import get_reference_directions\n",
    "from pymoo.optimize import minimize\n",
    "from pymoo.visualization.scatter import Scatter\n",
    "from scipy.stats import qmc\n",
    "from mpl_toolkits import mplot3d\n",
    "%matplotlib inline\n",
    "import numpy as np\n",
    "import matplotlib.pyplot as plt\n",
    "from pymoo.algorithms.soo.nonconvex.ga import GA\n",
    "from pymoo.problems import get_problem\n",
    "from pymoo.optimize import minimize\n",
    "from sklearn import preprocessing\n",
    "from matplotlib.patches import Polygon\n",
    "import pandas as pd\n",
    "import xlsxwriter\n",
    "from pandas import Series, ExcelWriter\n",
    "from sklearn.metrics.pairwise import euclidean_distances"
   ]
  },
  {
   "cell_type": "markdown",
   "metadata": {},
   "source": [
    "### Function for Computing Points in circle"
   ]
  },
  {
   "cell_type": "code",
   "execution_count": 2,
   "metadata": {},
   "outputs": [],
   "source": [
    "def RoI_circle(center, clust, r):\n",
    "    return np.array([point for point in clust if (center[0] - point[0])**2 + (center[1] - point[1])**2 <= r**2])"
   ]
  },
  {
   "cell_type": "markdown",
   "metadata": {},
   "source": [
    "### Function for Centroid Computation"
   ]
  },
  {
   "cell_type": "code",
   "execution_count": 3,
   "metadata": {},
   "outputs": [],
   "source": [
    "def centroid(clust):\n",
    "    dim = len(clust[0,:])\n",
    "#     print(dim)\n",
    "    centr_p = np.zeros([1,dim])\n",
    "    for i in range(0,dim):\n",
    "        centr_p[0,i] = np.median(clust[:,i])\n",
    "#         centr_p[0,i] = np.mean(clust[:,i])\n",
    "    zp_dist = euclidean_distances(clust, centr_p)\n",
    "    zp_idx = np.array(zp_dist).argmin()\n",
    "    centr = clust[zp_idx,:]\n",
    "    return centr"
   ]
  },
  {
   "cell_type": "markdown",
   "metadata": {},
   "source": [
    "### Function for Radius Computation"
   ]
  },
  {
   "cell_type": "code",
   "execution_count": 4,
   "metadata": {},
   "outputs": [],
   "source": [
    "def Radius(clust):\n",
    "    rad = np.zeros([len(clust),1])\n",
    "    centr = centroid(clust)\n",
    "    for i in range(0,len(clust)):      \n",
    "      rad[i] = ma.dist(centr, clust[i,:])\n",
    "    r = np.max(rad)\n",
    "    return r"
   ]
  },
  {
   "cell_type": "markdown",
   "metadata": {},
   "source": [
    "### Function for Normalizing Data"
   ]
  },
  {
   "cell_type": "code",
   "execution_count": 5,
   "metadata": {},
   "outputs": [],
   "source": [
    "def Normal(data,UB,LB):\n",
    "    dim = len(UB)\n",
    "    normal_data = np.zeros([len(data[:,0]),dim])\n",
    "    for i in range(0,dim):\n",
    "        normal_data[:,i] = (data[:,i]-LB[i])/(UB[i]-LB[i])\n",
    "    return normal_data"
   ]
  },
  {
   "cell_type": "markdown",
   "metadata": {},
   "source": [
    "### Function for UB and LB Computation"
   ]
  },
  {
   "cell_type": "code",
   "execution_count": 6,
   "metadata": {},
   "outputs": [],
   "source": [
    "def bounds(data):\n",
    "    size = len(data[0])\n",
    "    UB = np.zeros([1,size]); LB = np.zeros([1,size]); \n",
    "\n",
    "    for i in range(0,size):\n",
    "        UB[0,i] = np.max(res.F[:,i])\n",
    "        LB[0,i] = np.min(res.F[:,i])\n",
    "        \n",
    "    return UB, LB"
   ]
  },
  {
   "cell_type": "code",
   "execution_count": 7,
   "metadata": {},
   "outputs": [],
   "source": [
    "# UB, LB = bounds(ref_directions)"
   ]
  },
  {
   "cell_type": "markdown",
   "metadata": {},
   "source": [
    "### Existing R-HV Computation"
   ]
  },
  {
   "cell_type": "code",
   "execution_count": 8,
   "metadata": {},
   "outputs": [],
   "source": [
    "from sklearn.metrics.pairwise import euclidean_distances\n",
    "def Exist_RHV_points(centr, clust, ref_points):\n",
    "    ideal_point = [0, 0]\n",
    "    zp_dist = euclidean_distances(clust, [centr])\n",
    "    zp_idx = np.array(zp_dist).argmin()\n",
    "    zp = clust[zp_idx,:]\n",
    "    ASF = (zp - ideal_point)/(ref_points - ideal_point)\n",
    "    k = np.array(ASF).argmax()\n",
    "    zl = ideal_point + ((zp[k] - ideal_point[k])/(ref_points[k] - ideal_point[k]))*(ref_points - ideal_point)\n",
    "    clust_RHV = clust + (zl-zp)\n",
    "    return clust_RHV"
   ]
  },
  {
   "cell_type": "markdown",
   "metadata": {},
   "source": [
    "### Modified R-HV Computation"
   ]
  },
  {
   "cell_type": "code",
   "execution_count": 9,
   "metadata": {},
   "outputs": [],
   "source": [
    "from sklearn.metrics.pairwise import euclidean_distances\n",
    "def Mod_RHV_points(ASF_Sol, clust, ref_points):\n",
    "    \n",
    "    dim = len(ref_points)\n",
    "    ## Compute centroid from cluster\n",
    "    centr = centroid(clust)\n",
    "    \n",
    "    ## Compute distance between ASF Solutions and MCDM Centroids\n",
    "    d_R = ma.dist(ASF_Sol,centr)\n",
    "\n",
    "    ## New Centroid on Reference line\n",
    "    vec = ref_points - ASF_Sol\n",
    "    centra_new = np.zeros([1,dim])\n",
    "    centra_new = ASF_Sol + d_R*(vec/np.linalg.norm(vec))\n",
    "\n",
    "    ## Initializing the Shifted MCDM\n",
    "    clust_RHV = np.zeros([len(clust),dim])\n",
    "\n",
    "    ## Computing the Shifted MCDM\n",
    "    clust_RHV = clust + (centra_new - centr)\n",
    "    return clust_RHV"
   ]
  },
  {
   "cell_type": "markdown",
   "metadata": {},
   "source": [
    "### Function for Plotting"
   ]
  },
  {
   "cell_type": "code",
   "execution_count": 10,
   "metadata": {},
   "outputs": [],
   "source": [
    "def plot(PF,MCDM_solns,ref_points,ASF_Sol,a,b):\n",
    "    import matplotlib\n",
    "    import matplotlib.pyplot as plt\n",
    "    plt.figure(figsize=(5, 5))\n",
    "    plt.rcParams['font.size'] = 12\n",
    "    MCDM_solns = MCDM_solns[MCDM_solns[:,1]<a]\n",
    "    MCDM_solns = MCDM_solns[MCDM_solns[:,0]<b]\n",
    "\n",
    "    plt.scatter(res.F[:, 0],  res.F[:, 1],  s=15, facecolors='k', edgecolors='k')\n",
    "    plt.scatter(MCDM_solns[:, 0],  MCDM_solns[:, 1],  s=25, facecolors='r', edgecolors='r')\n",
    "\n",
    "    plt.scatter(ref_points[:, 0], ref_points[:, 1], s=150,  marker='*', facecolors='b', edgecolors='b')\n",
    "\n",
    "    plt.xlabel('$f_1$',fontsize=14)\n",
    "    plt.ylabel('$f_2$',fontsize=14)\n",
    "    plt.legend([\"Pareto Front\", \"MCDM Solns\", \"Ref Points\"], loc =\"upper right\",fontsize=12)\n",
    "    plt.grid(color='k', linestyle='--', linewidth=1, alpha=0.1)\n",
    "\n",
    "    plt.scatter(ASF_Sol[0, :],  ASF_Sol[1, :],  s=75, facecolors='violet', edgecolors='k')\n",
    "    \n",
    "    ideal_point = [min(res.F[:, 0]), min(res.F[:, 1])] \n",
    "\n",
    "    plt.plot([ideal_point[0], ref_points[0,0]], [ideal_point[1], ref_points[0,1]], 'bo', linestyle=\"--\")\n",
    "    plt.plot([ideal_point[0], ref_points[1,0]], [ideal_point[1], ref_points[1,1]], 'bo', linestyle=\"--\")\n",
    "#     plt.plot([ideal_point[0], ref_points[2,0]], [ideal_point[1], ref_points[2,1]], 'bo', linestyle=\"--\")\n",
    "    \n",
    "    plt.plot([ideal_point[0]], [ideal_point[1]], 'mo', linestyle=\"--\")\n",
    "    plt.text(1.0*ref_points[0,0], 1.05*ref_points[0,1], \"$R_1$\", fontsize=14)\n",
    "    plt.text(1.0*ref_points[1,0], 1.1*ref_points[1,1], \"$R_2$\", fontsize=14)\n",
    "#     plt.text(1.02*ref_points[2,0], 0.95*ref_points[2,1], \"$R_2$\", fontsize=14)\n",
    "    plt.text(1.02*ideal_point[0],  0.5*ideal_point[1], \"$O$\", fontsize=14)\n",
    "\n",
    "    plt.xlabel('$f_1$',fontsize=16)\n",
    "    plt.ylabel('$f_2$',fontsize=16)\n",
    "    plt.grid(color='k', linestyle='--', linewidth=1, alpha=0.1)\n",
    "    plt.show()"
   ]
  },
  {
   "cell_type": "markdown",
   "metadata": {},
   "source": [
    "# PROBLEM DEFINITION STARTS HERE"
   ]
  },
  {
   "cell_type": "code",
   "execution_count": 11,
   "metadata": {},
   "outputs": [],
   "source": [
    "class MyProblem(ElementwiseProblem):\n",
    "\n",
    "    def __init__(self):\n",
    "        super().__init__(n_var=4,\n",
    "                         n_obj=2,\n",
    "                         n_constr=0,\n",
    "                         xl=np.array([1, 2**0.5, 2**0.5, 1]),\n",
    "                         xu=np.array([3, 3, 3, 3]))\n",
    "\n",
    "    def _evaluate(self, x, out, *args, **kwargs):\n",
    "        F = 10; E = 200000; L = 200; S = 10; a = F/S;\n",
    "        f1 = (L*(2*x[0]+ (2**0.5)*x[1] + x[2]**0.5 + x[3])-1.24019913e+03)/1.57847952e+03\n",
    "        f2 = ((2*F*L/E)*(1/x[0] + (2**0.5)/x[1] - (2**0.5)/x[2] + 1/x[3]) - 3.26475150e-03)/3.65618970e-02\n",
    "        out[\"F\"] = [f1, f2]\n",
    "problem = MyProblem()"
   ]
  },
  {
   "cell_type": "code",
   "execution_count": 12,
   "metadata": {
    "scrolled": true
   },
   "outputs": [
    {
     "name": "stderr",
     "output_type": "stream",
     "text": [
      "<__array_function__ internals>:200: RuntimeWarning: invalid value encountered in cast\n"
     ]
    },
    {
     "name": "stdout",
     "output_type": "stream",
     "text": [
      "==========================================================\n",
      "n_gen  |  n_eval  | n_nds  |      eps      |   indicator  \n",
      "==========================================================\n",
      "     1 |      101 |     12 |             - |             -\n",
      "     2 |      202 |     12 |  0.0577566277 |             f\n",
      "     3 |      303 |     17 |  0.0218035767 |             f\n",
      "     4 |      404 |     29 |  0.0285856168 |             f\n",
      "     5 |      505 |     36 |  0.0186596444 |             f\n",
      "     6 |      606 |     41 |  0.0083269673 |         ideal\n",
      "     7 |      707 |     48 |  0.0090180609 |             f\n",
      "     8 |      808 |     69 |  0.0076614601 |             f\n",
      "     9 |      909 |     74 |  0.0036303831 |             f\n",
      "    10 |     1010 |     75 |  0.0041308863 |             f\n",
      "    11 |     1111 |     76 |  0.0063079877 |         nadir\n",
      "    12 |     1212 |     86 |  0.0083462734 |         ideal\n",
      "    13 |     1313 |     84 |  0.0124581021 |         ideal\n",
      "    14 |     1414 |     88 |  0.0025437416 |             f\n",
      "    15 |     1515 |     89 |  0.0008300285 |             f\n",
      "    16 |     1616 |     91 |  0.0020266171 |             f\n",
      "    17 |     1717 |     87 |  0.0048478707 |         ideal\n",
      "    18 |     1818 |     90 |  0.0012602491 |             f\n",
      "    19 |     1919 |     96 |  0.0031023698 |             f\n",
      "    20 |     2020 |     96 |  0.0008564046 |             f\n",
      "    21 |     2121 |     93 |  0.0125735388 |         ideal\n",
      "    22 |     2222 |     93 |  0.0011831935 |             f\n",
      "    23 |     2323 |     86 |  0.0038194860 |         ideal\n",
      "    24 |     2424 |     91 |  0.0011284060 |             f\n",
      "    25 |     2525 |     94 |  0.0021125806 |             f\n",
      "    26 |     2626 |     96 |  0.0028504407 |             f\n",
      "    27 |     2727 |     87 |  0.0260343451 |         ideal\n",
      "    28 |     2828 |     90 |  0.0009942896 |             f\n",
      "    29 |     2929 |     89 |  0.0015979590 |             f\n",
      "    30 |     3030 |     90 |  0.0024212701 |             f\n",
      "    31 |     3131 |     92 |  0.0031072545 |             f\n",
      "    32 |     3232 |     86 |  0.0051520697 |         ideal\n",
      "    33 |     3333 |     92 |  0.0015427716 |             f\n",
      "    34 |     3434 |     92 |  0.0021867640 |             f\n",
      "    35 |     3535 |     94 |  0.0028456132 |             f\n",
      "    36 |     3636 |     95 |  0.0005690810 |             f\n",
      "    37 |     3737 |     88 |  0.0044914203 |         ideal\n",
      "    38 |     3838 |     94 |  0.0014973909 |             f\n",
      "    39 |     3939 |     95 |  0.0022173391 |             f\n",
      "    40 |     4040 |     95 |  0.0026875119 |             f\n",
      "    41 |     4141 |     92 |  0.0150794649 |         nadir\n",
      "    42 |     4242 |     92 |  0.0250315193 |         nadir\n",
      "    43 |     4343 |     85 |  0.0041670731 |         ideal\n",
      "    44 |     4444 |     88 |  0.0011247621 |             f\n",
      "    45 |     4545 |     92 |  0.0020280451 |             f\n",
      "    46 |     4646 |     92 |  0.0080607792 |         ideal\n",
      "    47 |     4747 |     96 |  0.0009364734 |             f\n",
      "    48 |     4848 |     91 |  0.0047660099 |         nadir\n",
      "    49 |     4949 |     92 |  0.0010188397 |             f\n",
      "    50 |     5050 |     96 |  0.0019280839 |             f\n",
      "    51 |     5151 |     89 |  0.0052086353 |         ideal\n",
      "    52 |     5252 |     91 |  0.0033789194 |         ideal\n",
      "    53 |     5353 |     96 |  0.0008696589 |             f\n",
      "    54 |     5454 |     97 |  0.0017714247 |             f\n",
      "    55 |     5555 |     99 |  0.0026531983 |             f\n",
      "    56 |     5656 |     99 |  0.0001259284 |             f\n",
      "    57 |     5757 |    100 |  0.0004884330 |             f\n",
      "    58 |     5858 |     99 |  0.0007778318 |             f\n",
      "    59 |     5959 |    100 |  0.0010214497 |             f\n",
      "    60 |     6060 |    101 |  0.0012770976 |             f\n",
      "    61 |     6161 |     99 |  0.0094879677 |         ideal\n",
      "    62 |     6262 |     99 |  0.0009173827 |             f\n",
      "    63 |     6363 |    100 |  0.0012479047 |             f\n",
      "    64 |     6464 |     99 |  0.0015310162 |             f\n",
      "    65 |     6565 |    101 |  0.0020150314 |             f\n",
      "    66 |     6666 |    100 |  0.0023535252 |             f\n",
      "    67 |     6767 |    100 |  0.0025567676 |             f\n",
      "    68 |     6868 |     91 |  0.0044646536 |         ideal\n",
      "    69 |     6969 |     90 |  0.0037578114 |         ideal\n",
      "    70 |     7070 |     92 |  0.0006219295 |             f\n",
      "    71 |     7171 |     94 |  0.0013215059 |             f\n",
      "    72 |     7272 |     95 |  0.0017337755 |             f\n",
      "    73 |     7373 |     92 |  0.0051486223 |         ideal\n",
      "    74 |     7474 |     90 |  0.0027451821 |         ideal\n",
      "    75 |     7575 |     94 |  0.0010905642 |             f\n",
      "    76 |     7676 |     94 |  0.0013975280 |             f\n",
      "    77 |     7777 |     97 |  0.0022498271 |             f\n",
      "    78 |     7878 |    100 |  0.0025569685 |             f\n",
      "    79 |     7979 |    101 |  0.0004928813 |             f\n",
      "    80 |     8080 |    101 |  0.0006600016 |             f\n",
      "    81 |     8181 |     98 |  0.0040049343 |         nadir\n",
      "    82 |     8282 |    101 |  0.0010857881 |             f\n",
      "    83 |     8383 |    101 |  0.0014678234 |             f\n",
      "    84 |     8484 |    101 |  0.0019013975 |             f\n",
      "    85 |     8585 |    101 |  0.0020372760 |             f\n",
      "    86 |     8686 |    101 |  0.0023101991 |             f\n",
      "    87 |     8787 |    101 |  0.0026002667 |             f\n",
      "    88 |     8888 |    101 |  0.0002344395 |             f\n",
      "    89 |     8989 |    101 |  0.0057360262 |         nadir\n",
      "    90 |     9090 |    101 |  0.0004361590 |             f\n",
      "    91 |     9191 |    101 |  0.0007328512 |             f\n",
      "    92 |     9292 |    101 |  0.0010369732 |             f\n",
      "    93 |     9393 |    101 |  0.0014467222 |             f\n",
      "    94 |     9494 |     99 |  0.0044646255 |         nadir\n",
      "    95 |     9595 |    100 |  0.0004557880 |             f\n",
      "    96 |     9696 |     99 |  0.0006081221 |             f\n",
      "    97 |     9797 |    100 |  0.0010281345 |             f\n",
      "    98 |     9898 |    100 |  0.0010846069 |             f\n",
      "    99 |     9999 |    100 |  0.0012730780 |             f\n",
      "   100 |    10100 |    100 |  0.0012866571 |             f\n"
     ]
    }
   ],
   "source": [
    "ref_dirs = get_reference_directions(\"das-dennis\", 2, n_partitions=100)\n",
    "\n",
    "# create the algorithm object\n",
    "algorithm = NSGA3(pop_size=101, ref_dirs=ref_dirs)\n",
    "#algorithm = NSGA2(pop_size=201)\n",
    "res = minimize(problem,\n",
    "               algorithm,\n",
    "               (\"n_gen\", 100),\n",
    "               verbose=True,\n",
    "               seed=1)"
   ]
  },
  {
   "cell_type": "markdown",
   "metadata": {},
   "source": [
    "### Computing ASF Solutions"
   ]
  },
  {
   "cell_type": "code",
   "execution_count": 13,
   "metadata": {},
   "outputs": [],
   "source": [
    "def ASF_solution(ref_point):\n",
    "    class MyProblem(ElementwiseProblem):\n",
    "\n",
    "        def __init__(self):\n",
    "            super().__init__(n_var=4,\n",
    "                             n_obj=1,\n",
    "                             n_constr=0,\n",
    "                             xl=np.array([1, 2**0.5, 2**0.5, 1]),\n",
    "                             xu=np.array([3, 3, 3, 3]))\n",
    "\n",
    "        def _evaluate(self, x, out, *args, **kwargs):\n",
    "            F = 10; E = 200000; L = 200; S = 10; a = F/S;\n",
    "            f1 = (L*(2*x[0]+ (2**0.5)*x[1] + x[2]**0.5 + x[3])-1.24019913e+03)/1.57847952e+03\n",
    "            f2 = ((2*F*L/E)*(1/x[0] + (2**0.5)/x[1] - (2**0.5)/x[2] + 1/x[3]) - 3.26475150e-03)/3.65618970e-02\n",
    "            \n",
    "            ideal_point = np.array([0,0]);\n",
    "            \n",
    "            f_ASF = (np.max((np.array([f1,f2]) - ideal_point)/(ref_point-ideal_point))\n",
    "                     + 0.0001*np.sum(np.array([f1,f2])/(ref_point-ideal_point)))            \n",
    "\n",
    "            \n",
    "            out[\"F\"] = [f_ASF]\n",
    "            \n",
    "\n",
    "    problem_ASF = MyProblem()\n",
    "    \n",
    "    # OPTIMIZATION HERE\n",
    "    \n",
    "    algorithm = GA(pop_size=10,eliminate_duplicates=True)\n",
    "\n",
    "    res_ASF = minimize(problem_ASF,\n",
    "               algorithm,\n",
    "               seed=1, termination=('n_gen', 50),\n",
    "               verbose=True)\n",
    "    return res_ASF"
   ]
  },
  {
   "cell_type": "code",
   "execution_count": 14,
   "metadata": {},
   "outputs": [
    {
     "name": "stdout",
     "output_type": "stream",
     "text": [
      "=================================================\n",
      "n_gen  |  n_eval  |     f_avg     |     f_min    \n",
      "=================================================\n",
      "     1 |       10 |  1.4746483826 |  0.7781826138\n",
      "     2 |       20 |  1.0153122099 |  0.7293780856\n",
      "     3 |       30 |  0.7816178481 |  0.7016091445\n",
      "     4 |       40 |  0.7552041248 |  0.7016091445\n",
      "     5 |       50 |  0.7225668976 |  0.7016091445\n",
      "     6 |       60 |  0.6986147387 |  0.6283654036\n",
      "     7 |       70 |  0.6763800770 |  0.6283654036\n",
      "     8 |       80 |  0.6416162325 |  0.6215366584\n",
      "     9 |       90 |  0.6261249573 |  0.6215366584\n",
      "    10 |      100 |  0.6220731290 |  0.6060338306\n",
      "    11 |      110 |  0.6192421384 |  0.6059809071\n",
      "    12 |      120 |  0.6173155558 |  0.6059809071\n",
      "    13 |      130 |  0.6149224627 |  0.6059657545\n",
      "    14 |      140 |  0.6129661325 |  0.6059423871\n",
      "    15 |      150 |  0.6094463154 |  0.6058034684\n",
      "    16 |      160 |  0.6056987032 |  0.6048667109\n",
      "    17 |      170 |  0.6054419001 |  0.6047554083\n",
      "    18 |      180 |  0.6050870382 |  0.6046905831\n",
      "    19 |      190 |  0.6048025731 |  0.6040323199\n",
      "    20 |      200 |  0.6047184896 |  0.6040323199\n",
      "    21 |      210 |  0.6045597239 |  0.6040323199\n",
      "    22 |      220 |  0.6043284923 |  0.6040312126\n",
      "    23 |      230 |  0.6042461931 |  0.6040312126\n",
      "    24 |      240 |  0.6041145268 |  0.6040147328\n",
      "    25 |      250 |  0.6040233857 |  0.6039374004\n",
      "    26 |      260 |  0.6040081638 |  0.6039374004\n",
      "    27 |      270 |  0.6039991895 |  0.6039374004\n",
      "    28 |      280 |  0.6039406700 |  0.6034460160\n",
      "    29 |      290 |  0.6038712462 |  0.6034460160\n",
      "    30 |      300 |  0.6037551595 |  0.6034323151\n",
      "    31 |      310 |  0.6035866629 |  0.6034195169\n",
      "    32 |      320 |  0.6034369642 |  0.6034195169\n",
      "    33 |      330 |  0.6034226909 |  0.6034115035\n",
      "    34 |      340 |  0.6034130381 |  0.6033834110\n",
      "    35 |      350 |  0.6034045574 |  0.6033834110\n",
      "    36 |      360 |  0.6033974407 |  0.6033834110\n",
      "    37 |      370 |  0.6033932183 |  0.6033834110\n",
      "    38 |      380 |  0.6033862116 |  0.6033755578\n",
      "    39 |      390 |  0.6033241332 |  0.6030263707\n",
      "    40 |      400 |  0.6032653546 |  0.6030258687\n",
      "    41 |      410 |  0.6032395397 |  0.6030258687\n",
      "    42 |      420 |  0.6030884648 |  0.6030258687\n",
      "    43 |      430 |  0.6029408482 |  0.6020591844\n",
      "    44 |      440 |  0.6028322184 |  0.6020545462\n",
      "    45 |      450 |  0.6027432054 |  0.6020545462\n",
      "    46 |      460 |  0.6025697026 |  0.6020545462\n",
      "    47 |      470 |  0.6023831728 |  0.6020464529\n",
      "    48 |      480 |  0.6020888108 |  0.6020448217\n",
      "    49 |      490 |  0.6020692213 |  0.6020448217\n",
      "    50 |      500 |  0.6020479398 |  0.6020426373\n",
      "=================================================\n",
      "n_gen  |  n_eval  |     f_avg     |     f_min    \n",
      "=================================================\n",
      "     1 |       10 |  1.0391089858 |  0.6939860916\n",
      "     2 |       20 |  0.8089331276 |  0.6939860916\n",
      "     3 |       30 |  0.7289907501 |  0.6194482265\n",
      "     4 |       40 |  0.6780343204 |  0.6147579811\n",
      "     5 |       50 |  0.6374518200 |  0.6052922221\n",
      "     6 |       60 |  0.6141153635 |  0.6052922221\n",
      "     7 |       70 |  0.6098461258 |  0.6052922221\n",
      "     8 |       80 |  0.6074974154 |  0.6052922221\n",
      "     9 |       90 |  0.6061548007 |  0.6050924450\n",
      "    10 |      100 |  0.6057663144 |  0.6045728097\n",
      "    11 |      110 |  0.6053115577 |  0.6045270158\n",
      "    12 |      120 |  0.6048651800 |  0.6041229868\n",
      "    13 |      130 |  0.6046584290 |  0.6041229868\n",
      "    14 |      140 |  0.6044126006 |  0.6037956928\n",
      "    15 |      150 |  0.6042094852 |  0.6028682230\n",
      "    16 |      160 |  0.6038737609 |  0.6028275429\n",
      "    17 |      170 |  0.6033368473 |  0.6024079460\n",
      "    18 |      180 |  0.6028233762 |  0.6024078109\n",
      "    19 |      190 |  0.6026906029 |  0.6024078109\n",
      "    20 |      200 |  0.6026379104 |  0.6023693867\n",
      "    21 |      210 |  0.6024327570 |  0.6023200450\n",
      "    22 |      220 |  0.6023948004 |  0.6023200450\n",
      "    23 |      230 |  0.6020626791 |  0.5991224016\n",
      "    24 |      240 |  0.6020496818 |  0.5991224016\n",
      "    25 |      250 |  0.6020329466 |  0.5991224016\n",
      "    26 |      260 |  0.6020130480 |  0.5991224016\n",
      "    27 |      270 |  0.6020093433 |  0.5991224016\n",
      "    28 |      280 |  0.6016919398 |  0.5991224016\n",
      "    29 |      290 |  0.6006494945 |  0.5987805155\n",
      "    30 |      300 |  0.5999752237 |  0.5987772945\n",
      "    31 |      310 |  0.5988329881 |  0.5975974486\n",
      "    32 |      320 |  0.5985842078 |  0.5975973181\n",
      "    33 |      330 |  0.5983320332 |  0.5975969783\n",
      "    34 |      340 |  0.5980763996 |  0.5975969412\n",
      "    35 |      350 |  0.5976707345 |  0.5971259546\n",
      "    36 |      360 |  0.5975392373 |  0.5971259546\n",
      "    37 |      370 |  0.5975343053 |  0.5971259546\n",
      "    38 |      380 |  0.5974712303 |  0.5971064672\n",
      "    39 |      390 |  0.5974115845 |  0.5971003349\n",
      "    40 |      400 |  0.5972354826 |  0.5971003349\n",
      "    41 |      410 |  0.5971540976 |  0.5971003349\n",
      "    42 |      420 |  0.5970996882 |  0.5970512963\n",
      "    43 |      430 |  0.5970961348 |  0.5970512963\n",
      "    44 |      440 |  0.5970855389 |  0.5970512613\n",
      "    45 |      450 |  0.5969980469 |  0.5962745210\n",
      "    46 |      460 |  0.5969980469 |  0.5962745210\n",
      "    47 |      470 |  0.5969154622 |  0.5962745210\n",
      "    48 |      480 |  0.5968205405 |  0.5962479977\n",
      "    49 |      490 |  0.5968156388 |  0.5962479977\n",
      "    50 |      500 |  0.5966711920 |  0.5962237153\n"
     ]
    }
   ],
   "source": [
    "ASF_Sol = np.zeros([2,2])\n",
    "ref_p = np.array([[0.4, 0.9],[0.9, 0.4]])\n",
    "for i in range(0,2):\n",
    "    res_ASF = ASF_solution(ref_p[i,:])\n",
    "    ASF_Sol[i,:] = problem.evaluate(res_ASF.X)"
   ]
  },
  {
   "cell_type": "code",
   "execution_count": 15,
   "metadata": {},
   "outputs": [
    {
     "data": {
      "image/png": "[encoded data removed]",
      "text/plain": [
       "<Figure size 360x360 with 1 Axes>"
      ]
     },
     "metadata": {
      "needs_background": "light"
     },
     "output_type": "display_data"
    }
   ],
   "source": [
    "import matplotlib\n",
    "import matplotlib.pyplot as plt\n",
    "ref_points = np.array([[0.4, 0.9],[0.9, 0.4]])\n",
    "plt.figure(figsize=(5, 5))\n",
    "plt.rcParams['font.size'] = 12\n",
    "plt.scatter(res.F[:, 0],  res.F[:, 1],  s=15, facecolors='k', edgecolors='k')\n",
    "plt.scatter(ref_points[:,0], ref_points[:,1], s= 100, marker='*', color='blue', label='Reference Point')\n",
    "plt.plot([0, ref_points[0,0]], [0, ref_points[0,1]], 'bo', linestyle=\"--\")\n",
    "plt.plot([0, ref_points[1,0]], [0, ref_points[1,1]], 'bo', linestyle=\"--\")\n",
    "plt.scatter(ASF_Sol[0, :],  ASF_Sol[1, :],  s=75, facecolors='violet', edgecolors='k')\n",
    "\n",
    "plt.xlabel('$f_1$',fontsize=16)\n",
    "plt.ylabel('$f_2$',fontsize=16)\n",
    "plt.grid(color='k', linestyle='--', linewidth=1, alpha=0.1)"
   ]
  },
  {
   "cell_type": "markdown",
   "metadata": {},
   "source": [
    "## UB and LB Computation "
   ]
  },
  {
   "cell_type": "code",
   "execution_count": 16,
   "metadata": {},
   "outputs": [],
   "source": [
    "UB = np.zeros([1,2]); LB = np.zeros([1,2]); \n",
    "\n",
    "for i in range(0,2):\n",
    "    UB[0,i] = np.max(res.F[:,i])\n",
    "    LB[0,i] = np.min(res.F[:,i])\n",
    "ideal_point = LB[0,:]; nad_point = UB[0,:];"
   ]
  },
  {
   "cell_type": "code",
   "execution_count": 17,
   "metadata": {},
   "outputs": [
    {
     "name": "stdout",
     "output_type": "stream",
     "text": [
      "[ 0.00195342 -0.0042603 ]\n",
      "[1.00951832 0.99660888]\n"
     ]
    },
    {
     "data": {
      "text/plain": [
       "array([1.0075649 , 1.00086918])"
      ]
     },
     "execution_count": 17,
     "metadata": {},
     "output_type": "execute_result"
    }
   ],
   "source": [
    "print(ideal_point)\n",
    "print(nad_point)\n",
    "nad_point - ideal_point"
   ]
  },
  {
   "cell_type": "markdown",
   "metadata": {},
   "source": [
    "### R-NSGA-III for MCDM Solutions"
   ]
  },
  {
   "cell_type": "code",
   "execution_count": 18,
   "metadata": {
    "scrolled": true
   },
   "outputs": [
    {
     "name": "stdout",
     "output_type": "stream",
     "text": [
      "==========================================================\n",
      "n_gen  |  n_eval  | n_nds  |      eps      |   indicator  \n",
      "==========================================================\n",
      "     1 |       42 |      4 |             - |             -\n",
      "     2 |       84 |      5 |  0.0810005679 |         ideal\n",
      "     3 |      126 |      7 |  0.0034744552 |         ideal\n",
      "     4 |      168 |     10 |  0.0261170806 |         ideal\n",
      "     5 |      210 |     11 |  0.0369724767 |         ideal\n",
      "     6 |      252 |      7 |  0.1540077281 |         ideal\n",
      "     7 |      294 |     10 |  0.0221216949 |             f\n",
      "     8 |      336 |     13 |  0.0178960542 |         ideal\n",
      "     9 |      378 |     13 |  0.0096738400 |         ideal\n",
      "    10 |      420 |     13 |  0.0077376176 |             f\n",
      "    11 |      462 |     14 |  0.0038343626 |         nadir\n",
      "    12 |      504 |     16 |  0.0035343726 |             f\n",
      "    13 |      546 |     16 |  0.0021680484 |             f\n",
      "    14 |      588 |     16 |  0.0087750373 |         ideal\n",
      "    15 |      630 |     14 |  0.0018687247 |             f\n",
      "    16 |      672 |     18 |  0.0042989766 |             f\n",
      "    17 |      714 |     21 |  0.0018015275 |             f\n",
      "    18 |      756 |     26 |  0.0035745858 |             f\n",
      "    19 |      798 |     27 |  0.0015158676 |             f\n",
      "    20 |      840 |     28 |  0.0098327729 |         ideal\n",
      "    21 |      882 |     30 |  0.0031818517 |         nadir\n",
      "    22 |      924 |     35 |  0.0011157004 |             f\n",
      "    23 |      966 |     38 |  0.0038043122 |         ideal\n",
      "    24 |     1008 |     38 |  0.0005612901 |             f\n",
      "    25 |     1050 |     35 |  0.0144117250 |         ideal\n",
      "    26 |     1092 |     38 |  0.0008725351 |             f\n",
      "    27 |     1134 |     39 |  0.0011865025 |             f\n",
      "    28 |     1176 |     38 |  0.0014972494 |             f\n",
      "    29 |     1218 |     38 |  0.0015853157 |             f\n",
      "    30 |     1260 |     41 |  0.0020991048 |             f\n",
      "    31 |     1302 |     41 |  0.0032439749 |         nadir\n",
      "    32 |     1344 |     42 |  0.0167854725 |         nadir\n",
      "    33 |     1386 |     37 |  0.0067342147 |         ideal\n",
      "    34 |     1428 |     37 |  0.0002646523 |             f\n",
      "    35 |     1470 |     33 |  0.0105268622 |         ideal\n",
      "    36 |     1512 |     37 |  0.0010434703 |             f\n",
      "    37 |     1554 |     37 |  0.0012366471 |             f\n",
      "    38 |     1596 |     39 |  0.0015904203 |             f\n",
      "    39 |     1638 |     39 |  0.0035766045 |         nadir\n",
      "    40 |     1680 |     40 |  0.0003463763 |             f\n",
      "    41 |     1722 |     42 |  0.0007237083 |             f\n",
      "    42 |     1764 |     42 |  0.0008202021 |             f\n",
      "    43 |     1806 |     42 |  0.0010051735 |             f\n",
      "    44 |     1848 |     42 |  0.0025587418 |         ideal\n",
      "    45 |     1890 |     42 |  0.0000790716 |             f\n",
      "    46 |     1932 |     42 |  0.0002467240 |             f\n",
      "    47 |     1974 |     42 |  0.0032212348 |         nadir\n",
      "    48 |     2016 |     39 |  0.0069044978 |         ideal\n",
      "    49 |     2058 |     39 |  0.0002124910 |             f\n",
      "    50 |     2100 |     39 |  0.0005678377 |             f\n",
      "    51 |     2142 |     40 |  0.0009261369 |             f\n",
      "    52 |     2184 |     35 |  0.0080068016 |         ideal\n",
      "    53 |     2226 |     40 |  0.0008763013 |             f\n",
      "    54 |     2268 |     39 |  0.0010478532 |             f\n",
      "    55 |     2310 |     39 |  0.0013767940 |             f\n",
      "    56 |     2352 |     40 |  0.0016922454 |             f\n",
      "    57 |     2394 |     40 |  0.0018141244 |             f\n",
      "    58 |     2436 |     42 |  0.0020690908 |             f\n",
      "    59 |     2478 |     41 |  0.0095075929 |         nadir\n",
      "    60 |     2520 |     41 |  0.0000562078 |             f\n",
      "    61 |     2562 |     41 |  0.0131118519 |         ideal\n",
      "    62 |     2604 |     42 |  0.0004923461 |             f\n",
      "    63 |     2646 |     41 |  0.0028872075 |         nadir\n",
      "    64 |     2688 |     42 |  0.0121530393 |         nadir\n",
      "    65 |     2730 |     42 |  0.0000887680 |             f\n",
      "    66 |     2772 |     42 |  0.0001858128 |             f\n",
      "    67 |     2814 |     42 |  0.0003169171 |             f\n",
      "    68 |     2856 |     42 |  0.0004307738 |             f\n",
      "    69 |     2898 |     42 |  0.0004942481 |             f\n",
      "    70 |     2940 |     42 |  0.0005452076 |             f\n",
      "    71 |     2982 |     42 |  0.0007823321 |             f\n",
      "    72 |     3024 |     42 |  0.0148819943 |         ideal\n",
      "    73 |     3066 |     42 |  0.0002428085 |             f\n",
      "    74 |     3108 |     41 |  0.0044838046 |         nadir\n",
      "    75 |     3150 |     39 |  0.0047771007 |         ideal\n",
      "    76 |     3192 |     40 |  0.0002392886 |             f\n",
      "    77 |     3234 |     40 |  0.0004983770 |             f\n",
      "    78 |     3276 |     41 |  0.0008377943 |             f\n",
      "    79 |     3318 |     41 |  0.0012481889 |             f\n",
      "    80 |     3360 |     39 |  0.0050991081 |         ideal\n",
      "    81 |     3402 |     40 |  0.0003749711 |             f\n",
      "    82 |     3444 |     40 |  0.0005764480 |             f\n",
      "    83 |     3486 |     40 |  0.0007756086 |             f\n",
      "    84 |     3528 |     40 |  0.0009127132 |             f\n",
      "    85 |     3570 |     40 |  0.0009006859 |             f\n",
      "    86 |     3612 |     40 |  0.0008887205 |             f\n",
      "    87 |     3654 |     40 |  0.0010323961 |             f\n",
      "    88 |     3696 |     40 |  0.0011646312 |             f\n",
      "    89 |     3738 |     40 |  0.0012015037 |             f\n",
      "    90 |     3780 |     41 |  0.0012188261 |             f\n",
      "    91 |     3822 |     42 |  0.0014554940 |             f\n",
      "    92 |     3864 |     42 |  0.0014555509 |             f\n",
      "    93 |     3906 |     42 |  0.0015361129 |             f\n",
      "    94 |     3948 |     42 |  0.0015361114 |             f\n",
      "    95 |     3990 |     42 |  0.0015577372 |             f\n",
      "    96 |     4032 |     41 |  0.0069196717 |         ideal\n",
      "    97 |     4074 |     42 |  0.0004492053 |             f\n",
      "    98 |     4116 |     42 |  0.0009097905 |             f\n",
      "    99 |     4158 |     42 |  0.0011101595 |             f\n",
      "   100 |     4200 |     42 |  0.0012160847 |             f\n"
     ]
    }
   ],
   "source": [
    "# Define reference points\n",
    "ref_points = np.array([[0.4, 0.9],[0.9, 0.4]])\n",
    "\n",
    "algorithm = RNSGA3(\n",
    "    ref_points=ref_points,\n",
    "    pop_per_ref_point=20,\n",
    "    mu=0.1)\n",
    "\n",
    "resMCDM1 = minimize(problem,\n",
    "               algorithm=algorithm,\n",
    "               termination=('n_gen', 100),\n",
    "               extreme_points_as_reference_points=True,\n",
    "               seed=10,\n",
    "               verbose=True)"
   ]
  },
  {
   "cell_type": "code",
   "execution_count": 19,
   "metadata": {},
   "outputs": [
    {
     "data": {
      "image/png": "[encoded data removed]",
      "text/plain": [
       "<Figure size 360x360 with 1 Axes>"
      ]
     },
     "metadata": {
      "needs_background": "light"
     },
     "output_type": "display_data"
    }
   ],
   "source": [
    "plot(res.F,resMCDM1.F,ref_points,ASF_Sol,0.8,0.8)"
   ]
  },
  {
   "cell_type": "markdown",
   "metadata": {},
   "source": [
    "### R-HV Computation"
   ]
  },
  {
   "cell_type": "code",
   "execution_count": 20,
   "metadata": {},
   "outputs": [
    {
     "name": "stdout",
     "output_type": "stream",
     "text": [
      "[[0.07434709 0.06996665]]\n",
      "[[0.07001223 0.07107262]]\n"
     ]
    }
   ],
   "source": [
    "N = np.zeros([1,2]); N_RoI = np.zeros([1,2]); r = np.zeros([1,2]); \n",
    "H_Vol = np.zeros([1,2]); RH_Vol = np.zeros([1,2]); Mod_RH_Vol = np.zeros([1,2]);\n",
    "\n",
    "MCDM_solns = resMCDM1.F[resMCDM1.F[:,1]<0.8]\n",
    "MCDM = MCDM_solns[MCDM_solns[:,0]<0.8]\n",
    "\n",
    "#2-Clusters\n",
    "clust1 = MCDM[MCDM[:,1]>0.4]; clust2 = MCDM[MCDM[:,1]<0.4]\n",
    "\n",
    "#Count of MCDM and MCDM in RoI\n",
    "N[0,:] = [len(clust1),len(clust2)]; N_RoI[0,:] = [len(clust1),len(clust2)]\n",
    "\n",
    "#Centroid Computation\n",
    "centro1 = centroid(clust1); centro2 = centroid(clust2)\n",
    "\n",
    "#Radius Computation\n",
    "r1 = Radius(clust1); r2 = Radius(clust2)\n",
    "r[0,:] = np.array([r1, r2])\n",
    "\n",
    "#HV Computation \n",
    "ind = HV(ref_point=ref_points[0,:])\n",
    "H_Vol[0,0] =  ind(clust1)\n",
    "\n",
    "ind = HV(ref_point=ref_points[1,:])\n",
    "H_Vol[0,1] = ind(clust2)\n",
    "\n",
    "#R-HV Points Computation\n",
    "RHV_clust1a = Exist_RHV_points(centro1, clust1, ref_points[0,:])\n",
    "RHV_clust2a = Exist_RHV_points(centro2, clust2, ref_points[1,:])\n",
    "\n",
    "RHV = np.concatenate([RHV_clust1a,RHV_clust2a],axis=0)\n",
    "\n",
    "#R-HV Computation\n",
    "ind = HV(ref_point=ref_points[0,:])\n",
    "RH_Vol[0,0] =  ind(RHV_clust1a)\n",
    "\n",
    "ind = HV(ref_point=ref_points[1,:])\n",
    "RH_Vol[0,1] = ind(RHV_clust2a)\n",
    "\n",
    "\n",
    "#R-HV Points Computation\n",
    "Mod_RHV_clust1a = Mod_RHV_points(ASF_Sol[0,:], clust1, ref_points[0,:])\n",
    "Mod_RHV_clust2a = Mod_RHV_points(ASF_Sol[1,:], clust2, ref_points[1,:])\n",
    "\n",
    "Mod_RHV = np.concatenate([Mod_RHV_clust1a,Mod_RHV_clust2a],axis=0)\n",
    "\n",
    "#R-HV Computation\n",
    "ind = HV(ref_point=ref_points[0,:])\n",
    "Mod_RH_Vol[0,0] =  ind(Mod_RHV_clust1a)\n",
    "\n",
    "ind = HV(ref_point=ref_points[1,:])\n",
    "Mod_RH_Vol[0,1] = ind(Mod_RHV_clust2a)\n",
    "\n",
    "print(RH_Vol)\n",
    "print(Mod_RH_Vol)"
   ]
  },
  {
   "cell_type": "markdown",
   "metadata": {},
   "source": [
    "### Distance from ASF point to Ref point"
   ]
  },
  {
   "cell_type": "code",
   "execution_count": 21,
   "metadata": {},
   "outputs": [],
   "source": [
    "CR1 = ma.dist(ref_points[0,:],ASF_Sol[0,:])\n",
    "CR2 = ma.dist(ref_points[1,:],ASF_Sol[1,:])"
   ]
  },
  {
   "cell_type": "markdown",
   "metadata": {},
   "source": [
    "### New R-HV for R-NSGA-III"
   ]
  },
  {
   "cell_type": "code",
   "execution_count": 22,
   "metadata": {},
   "outputs": [
    {
     "name": "stdout",
     "output_type": "stream",
     "text": [
      "=================================================\n",
      "n_gen  |  n_eval  |     f_avg     |     f_min    \n",
      "=================================================\n",
      "     1 |       10 |  2.5490219383 |  1.3047817155\n",
      "     2 |       20 |  1.7537024041 |  1.2628803144\n",
      "     3 |       30 |  1.3342055783 |  1.2148001443\n",
      "     4 |       40 |  1.2606898976 |  1.2148001443\n",
      "     5 |       50 |  1.2348436796 |  1.1925636360\n",
      "     6 |       60 |  1.1987117037 |  1.0946485256\n",
      "     7 |       70 |  1.1419217134 |  1.0709115089\n",
      "     8 |       80 |  1.0975072340 |  1.0481337585\n",
      "     9 |       90 |  1.0719375372 |  1.0481337585\n",
      "    10 |      100 |  1.0656492145 |  1.0481337585\n",
      "    11 |      110 |  1.0557427847 |  1.0481337585\n",
      "    12 |      120 |  1.0536890354 |  1.0481337585\n",
      "    13 |      130 |  1.0513674482 |  1.0480185188\n",
      "    14 |      140 |  1.0506596267 |  1.0480185188\n",
      "    15 |      150 |  1.0502387212 |  1.0480185188\n",
      "    16 |      160 |  1.0493942549 |  1.0480185188\n",
      "    17 |      170 |  1.0485220629 |  1.0479074683\n",
      "    18 |      180 |  1.0480282804 |  1.0476225603\n",
      "    19 |      190 |  1.0479445597 |  1.0476225603\n",
      "    20 |      200 |  1.0478952436 |  1.0476225603\n",
      "    21 |      210 |  1.0478433048 |  1.0476143702\n",
      "    22 |      220 |  1.0476234176 |  1.0465918072\n",
      "    23 |      230 |  1.0474538208 |  1.0465918072\n",
      "    24 |      240 |  1.0472951780 |  1.0464956047\n",
      "    25 |      250 |  1.0470120575 |  1.0464786506\n",
      "    26 |      260 |  1.0467774375 |  1.0464786506\n",
      "    27 |      270 |  1.0466174795 |  1.0464786506\n",
      "    28 |      280 |  1.0465846440 |  1.0464535398\n",
      "    29 |      290 |  1.0464561507 |  1.0463402516\n",
      "    30 |      300 |  1.0463613169 |  1.0458124630\n",
      "    31 |      310 |  1.0462748290 |  1.0457285022\n",
      "    32 |      320 |  1.0457587457 |  1.0436738087\n",
      "    33 |      330 |  1.0456923273 |  1.0436738087\n",
      "    34 |      340 |  1.0450958687 |  1.0436738087\n",
      "    35 |      350 |  1.0443855473 |  1.0436738087\n",
      "    36 |      360 |  1.0441870781 |  1.0436738087\n",
      "    37 |      370 |  1.0436690678 |  1.0434184166\n",
      "    38 |      380 |  1.0433061647 |  1.0406812190\n",
      "    39 |      390 |  1.0432343856 |  1.0406812190\n",
      "    40 |      400 |  1.0425680101 |  1.0406812190\n",
      "    41 |      410 |  1.0417228745 |  1.0406753411\n",
      "    42 |      420 |  1.0412150359 |  1.0406753411\n",
      "    43 |      430 |  1.0406688092 |  1.0403889947\n",
      "    44 |      440 |  1.0406104766 |  1.0403889947\n",
      "    45 |      450 |  1.0405615544 |  1.0403889947\n",
      "    46 |      460 |  1.0404784538 |  1.0403889947\n",
      "    47 |      470 |  1.0404457710 |  1.0403889947\n",
      "    48 |      480 |  1.0404343760 |  1.0403889947\n",
      "    49 |      490 |  1.0404003610 |  1.0403811016\n",
      "    50 |      500 |  1.0403959443 |  1.0403811016\n",
      "=================================================\n",
      "n_gen  |  n_eval  |     f_avg     |     f_min    \n",
      "=================================================\n",
      "     1 |       10 |  1.7080084949 |  1.1257707343\n",
      "     2 |       20 |  1.3534696182 |  1.1257707343\n",
      "     3 |       30 |  1.2033703979 |  1.0707723390\n",
      "     4 |       40 |  1.1390625510 |  1.0625273608\n",
      "     5 |       50 |  1.0791159994 |  1.0596006122\n",
      "     6 |       60 |  1.0591731093 |  1.0194756586\n",
      "     7 |       70 |  1.0501371806 |  1.0194756586\n",
      "     8 |       80 |  1.0358368579 |  1.0194756586\n",
      "     9 |       90 |  1.0214566707 |  1.0116810862\n",
      "    10 |      100 |  1.0185884897 |  1.0116810862\n",
      "    11 |      110 |  1.0159988952 |  1.0110992172\n",
      "    12 |      120 |  1.0134257356 |  1.0110992172\n",
      "    13 |      130 |  1.0127418960 |  1.0110992172\n",
      "    14 |      140 |  1.0115896404 |  1.0110816922\n",
      "    15 |      150 |  1.0112913031 |  1.0110816922\n",
      "    16 |      160 |  1.0111864837 |  1.0106999326\n",
      "    17 |      170 |  1.0110084478 |  1.0106995143\n",
      "    18 |      180 |  1.0108417665 |  1.0106962528\n",
      "    19 |      190 |  1.0108182471 |  1.0106962528\n",
      "    20 |      200 |  1.0106998031 |  1.0106962381\n",
      "    21 |      210 |  1.0106956007 |  1.0106885176\n",
      "    22 |      220 |  1.0106941552 |  1.0106850789\n",
      "    23 |      230 |  1.0106915903 |  1.0106850789\n",
      "    24 |      240 |  1.0106876167 |  1.0106850788\n",
      "    25 |      250 |  1.0106870565 |  1.0106850788\n",
      "    26 |      260 |  1.0106869696 |  1.0106850788\n",
      "    27 |      270 |  1.0106860081 |  1.0106850788\n",
      "    28 |      280 |  1.0106853842 |  1.0106850602\n",
      "    29 |      290 |  1.0106850733 |  1.0106850598\n",
      "    30 |      300 |  1.0106850697 |  1.0106850598\n",
      "    31 |      310 |  1.0106850640 |  1.0106850598\n",
      "    32 |      320 |  1.0106850600 |  1.0106850598\n",
      "    33 |      330 |  1.0106850599 |  1.0106850596\n",
      "    34 |      340 |  1.0106850569 |  1.0106850316\n",
      "    35 |      350 |  1.0106850541 |  1.0106850316\n",
      "    36 |      360 |  1.0106850493 |  1.0106850304\n",
      "    37 |      370 |  1.0106850448 |  1.0106850304\n",
      "    38 |      380 |  1.0106850378 |  1.0106850304\n",
      "    39 |      390 |  1.0106850351 |  1.0106850304\n",
      "    40 |      400 |  1.0106850316 |  1.0106850304\n",
      "    41 |      410 |  1.0106850312 |  1.0106850304\n",
      "    42 |      420 |  1.0106850305 |  1.0106850302\n",
      "    43 |      430 |  1.0106850303 |  1.0106850301\n",
      "    44 |      440 |  1.0106850303 |  1.0106850301\n",
      "    45 |      450 |  1.0106850302 |  1.0106850301\n",
      "    46 |      460 |  1.0106850302 |  1.0106850301\n",
      "    47 |      470 |  1.0106850301 |  1.0106850301\n",
      "    48 |      480 |  1.0106850301 |  1.0106850301\n",
      "    49 |      490 |  1.0106850301 |  1.0106850301\n",
      "    50 |      500 |  1.0106611168 |  1.0104458974\n"
     ]
    }
   ],
   "source": [
    "res_ASF1 = ASF_solution(centro1)\n",
    "ASF_sol1 = problem.evaluate(res_ASF1.X)\n",
    "\n",
    "res_ASF2 = ASF_solution(centro2)\n",
    "ASF_sol2 = problem.evaluate(res_ASF2.X)\n",
    "\n",
    "CS1 = ma.dist(centro1,ASF_sol1)\n",
    "NS3_RHV1 = max(1-CS1/CR1,0)*Mod_RH_Vol[0,0]\n",
    "CS2 = ma.dist(centro2,ASF_sol2)\n",
    "NS3_RHV2 = max(1-CS2/CR2,0)*Mod_RH_Vol[0,1]\n",
    "\n",
    "NS3_RHV = [NS3_RHV1, NS3_RHV2]"
   ]
  },
  {
   "cell_type": "code",
   "execution_count": 23,
   "metadata": {},
   "outputs": [
    {
     "data": {
      "text/plain": [
       "<Figure size 720x864 with 0 Axes>"
      ]
     },
     "metadata": {},
     "output_type": "display_data"
    },
    {
     "data": {
      "image/png": "[encoded data removed]",
      "text/plain": [
       "<Figure size 468x468 with 1 Axes>"
      ]
     },
     "metadata": {
      "needs_background": "light"
     },
     "output_type": "display_data"
    }
   ],
   "source": [
    "import matplotlib\n",
    "import matplotlib.pyplot as plt\n",
    "plt.figure(figsize=(10, 12))\n",
    "figure, ax = plt.subplots(figsize=(6.5, 6.5))\n",
    "plt.rcParams['font.size'] = 12\n",
    "plt.scatter(res.F[:, 0],  res.F[:, 1],  s=5, facecolors='k', edgecolors='k',label=\"Pareto front\")\n",
    "plt.scatter(ref_points[:,0], ref_points[:,1], s= 100, marker='*', color='blue',label=\"Ref points\")\n",
    "plt.scatter(MCDM[:,0], MCDM[:,1], s= 10, color='g', edgecolors='g',label=\"MCDM Solns\")\n",
    "plt.scatter(RHV[:,0], RHV[:,1], s= 10, color='c', edgecolors='c',label=\"Exist MCDM Shift\")\n",
    "plt.scatter(Mod_RHV[:,0], Mod_RHV[:,1], s= 10, color='r', edgecolors='r',label=\"New MCDM Shift\")\n",
    "plt.plot([0, ref_points[0,0]], [0, ref_points[0,1]], 'bo', linestyle=\"--\")\n",
    "plt.plot([0, ref_points[1,0]], [0, ref_points[1,1]], 'bo', linestyle=\"--\")\n",
    "plt.scatter(ASF_Sol[0, :],  ASF_Sol[1, :],  s=75, facecolors='violet', edgecolors='k')\n",
    "\n",
    "ax.add_patch(plt.Circle((centro1[0],centro1[1]), r1, facecolor='r', edgecolor='k', alpha=0.2, label=\"$\\delta$-neighbor\"))\n",
    "ax.add_patch(plt.Circle((centro2[0],centro2[1]), r2, facecolor='r', edgecolor='k', alpha=0.2))\n",
    "\n",
    "HV_cor1=np.array([[np.min(RHV_clust1a[:,0]),np.max(RHV_clust1a[:,1])],[np.max(RHV_clust1a[:,0]),np.min(RHV_clust1a[:,1])],\n",
    "                    [ref_points[0,0],np.min(RHV_clust1a[:,1])],[ref_points[0,0], ref_points[0,1]], \n",
    "                    [np.min(RHV_clust1a[:,0]),ref_points[0,1]]])\n",
    "p1 = Polygon(HV_cor1, edgecolor='k', facecolor='g', hatch='/', alpha=0.2, label=\"R-HV\")\n",
    "ax.add_patch(p1)\n",
    "\n",
    "HV_cor1a=np.array([[np.min(Mod_RHV_clust1a[:,0]),np.max(Mod_RHV_clust1a[:,1])],\n",
    "                   [np.max(Mod_RHV_clust1a[:,0]),np.min(Mod_RHV_clust1a[:,1])],\n",
    "                    [ref_points[0,0],np.min(Mod_RHV_clust1a[:,1])],[ref_points[0,0], ref_points[0,1]], \n",
    "                    [np.min(Mod_RHV_clust1a[:,0]),ref_points[0,1]]])\n",
    "p1a = Polygon(HV_cor1a, linestyle='-.', linewidth=2.0, edgecolor='k', facecolor='y', hatch='-', alpha=0.2, label=r\"$\\tilde{R}$-HV\")\n",
    "ax.add_patch(p1a)\n",
    "\n",
    "HV_cor2=np.array([[np.min(RHV_clust2a[:,0]),np.max(RHV_clust2a[:,1])],[np.max(RHV_clust2a[:,0]),np.min(RHV_clust2a[:,1])],\n",
    "                    [ref_points[1,0],np.min(RHV_clust2a[:,1])],[ref_points[1,0], ref_points[1,1]], \n",
    "                    [np.min(RHV_clust2a[:,0]),ref_points[1,1]]])\n",
    "p2 = Polygon(HV_cor2, edgecolor='k', facecolor='g', hatch='/', alpha=0.2)\n",
    "ax.add_patch(p2)\n",
    "\n",
    "HV_cor2a=np.array([[np.min(Mod_RHV_clust2a[:,0]),np.max(Mod_RHV_clust2a[:,1])],\n",
    "                   [np.max(Mod_RHV_clust2a[:,0]),np.min(Mod_RHV_clust2a[:,1])],\n",
    "                    [ref_points[1,0],np.min(Mod_RHV_clust2a[:,1])],[ref_points[1,0], ref_points[1,1]], \n",
    "                    [np.min(Mod_RHV_clust2a[:,0]),ref_points[1,1]]])\n",
    "p2a = Polygon(HV_cor2a, linestyle='-.', linewidth=2.0, edgecolor='k', facecolor='y', hatch='-', alpha=0.2)\n",
    "ax.add_patch(p2a)\n",
    "\n",
    "plt.legend(loc=\"upper right\", fontsize=14)\n",
    "\n",
    "plt.plot([0.0], [0.0], 'mo', linestyle=\"--\")\n",
    "plt.text(0.45, 0.9, \"$R_1$\", fontsize=16)\n",
    "plt.text(0.95, 0.4, \"$R_2$\", fontsize=16)\n",
    "plt.text(-0.045, -0.045, \"$O$\", fontsize=16)\n",
    "\n",
    "plt.xlabel('$f_1$',fontsize=18)\n",
    "plt.ylabel('$f_2$',fontsize=18)\n",
    "plt.xticks(fontsize=14)\n",
    "plt.yticks(fontsize=14)\n",
    "plt.grid(color='k', linestyle='--', linewidth=1, alpha=0.1)\n",
    "plt.savefig(\"Ex1_NSGA.pdf\", format=\"pdf\", bbox_inches=\"tight\")\n",
    "# plt.show()"
   ]
  },
  {
   "cell_type": "code",
   "execution_count": 24,
   "metadata": {},
   "outputs": [
    {
     "name": "stdout",
     "output_type": "stream",
     "text": [
      "[[0.07434709 0.06996665]]\n",
      "[0.06583137765356788, 0.0700361755703964]\n"
     ]
    }
   ],
   "source": [
    "print(RH_Vol)\n",
    "print(NS3_RHV)"
   ]
  },
  {
   "cell_type": "code",
   "execution_count": 25,
   "metadata": {},
   "outputs": [
    {
     "name": "stdout",
     "output_type": "stream",
     "text": [
      "[[20. 20.]]\n",
      "[[20. 20.]]\n"
     ]
    }
   ],
   "source": [
    "print(N)\n",
    "print(N_RoI)"
   ]
  },
  {
   "cell_type": "markdown",
   "metadata": {},
   "source": [
    "### RVEA for MCDM Solution"
   ]
  },
  {
   "cell_type": "code",
   "execution_count": 26,
   "metadata": {},
   "outputs": [
    {
     "data": {
      "text/plain": [
       "40"
      ]
     },
     "execution_count": 26,
     "metadata": {},
     "output_type": "execute_result"
    }
   ],
   "source": [
    "reference_directions = resMCDM1.algorithm.survival.ref_dirs\n",
    "UB1, LB1 = bounds(reference_directions)\n",
    "\n",
    "reference_directions = reference_directions[reference_directions[:,1]<0.8,:]\n",
    "reference_directions = reference_directions[reference_directions[:,0]<0.8,:]\n",
    "\n",
    "ref_directions = Normal(reference_directions ,UB1[0],LB1[0])\n",
    "len(ref_directions)"
   ]
  },
  {
   "cell_type": "code",
   "execution_count": 27,
   "metadata": {},
   "outputs": [],
   "source": [
    "# ref_directions1"
   ]
  },
  {
   "cell_type": "code",
   "execution_count": 28,
   "metadata": {
    "scrolled": true
   },
   "outputs": [
    {
     "name": "stdout",
     "output_type": "stream",
     "text": [
      "==========================================================\n",
      "n_gen  |  n_eval  | n_nds  |      eps      |   indicator  \n",
      "==========================================================\n",
      "     1 |       40 |     40 |             - |             -\n",
      "     2 |       80 |     17 |  0.2933043520 |         ideal\n",
      "     3 |      120 |     21 |  0.1310549419 |         ideal\n",
      "     4 |      160 |     23 |  0.1014478601 |         ideal\n",
      "     5 |      200 |     25 |  0.1098703119 |         nadir\n",
      "     6 |      240 |     26 |  0.0266278740 |         ideal\n",
      "     7 |      280 |     27 |  0.1277010859 |         ideal\n",
      "     8 |      320 |     25 |  0.0324110800 |         ideal\n",
      "     9 |      360 |     30 |  0.0538018557 |         ideal\n",
      "    10 |      400 |     34 |  0.0329353139 |         ideal\n",
      "    11 |      440 |     36 |  0.2672579687 |         nadir\n",
      "    12 |      480 |     26 |  0.0663216738 |         ideal\n",
      "    13 |      520 |     27 |  0.0936142701 |         ideal\n",
      "    14 |      560 |     21 |  0.0616727802 |         ideal\n",
      "    15 |      600 |     25 |  0.0353582087 |         ideal\n",
      "    16 |      640 |     25 |  0.0283146398 |         ideal\n",
      "    17 |      680 |     27 |  0.0155247631 |         ideal\n",
      "    18 |      720 |     28 |  0.0953709788 |         ideal\n",
      "    19 |      760 |     33 |  0.0365603037 |         ideal\n",
      "    20 |      800 |     34 |  0.0414608934 |         ideal\n",
      "    21 |      840 |     35 |  0.0472860578 |         ideal\n",
      "    22 |      880 |     35 |  0.0054656643 |             f\n",
      "    23 |      920 |     37 |  0.0020864258 |             f\n",
      "    24 |      960 |     38 |  0.0040599127 |             f\n",
      "    25 |     1000 |     38 |  0.0015985122 |             f\n",
      "    26 |     1040 |     38 |  0.0027668405 |             f\n",
      "    27 |     1080 |     38 |  0.0005361702 |             f\n",
      "    28 |     1120 |     39 |  0.0017403853 |             f\n",
      "    29 |     1160 |     39 |  0.0045038880 |             f\n",
      "    30 |     1200 |     39 |  0.0013721524 |             f\n",
      "    31 |     1240 |     40 |  0.0019973082 |             f\n",
      "    32 |     1280 |     40 |  0.0022166866 |             f\n",
      "    33 |     1320 |     40 |  0.0033220056 |             f\n",
      "    34 |     1360 |     40 |  0.0038073058 |         ideal\n",
      "    35 |     1400 |     40 |  0.0003959530 |             f\n",
      "    36 |     1440 |     40 |  0.0008320638 |             f\n",
      "    37 |     1480 |     40 |  0.0009029476 |             f\n",
      "    38 |     1520 |     40 |  0.0038218568 |         ideal\n",
      "    39 |     1560 |     40 |  0.0002773313 |             f\n",
      "    40 |     1600 |     40 |  0.0004128917 |             f\n",
      "    41 |     1640 |     40 |  0.0009784972 |             f\n",
      "    42 |     1680 |     40 |  0.0030044316 |         ideal\n",
      "    43 |     1720 |     40 |  0.0003775124 |             f\n",
      "    44 |     1760 |     40 |  0.0005535343 |             f\n",
      "    45 |     1800 |     40 |  0.0012095086 |             f\n",
      "    46 |     1840 |     40 |  0.0079821614 |         ideal\n",
      "    47 |     1880 |     40 |  0.0027529176 |         ideal\n",
      "    48 |     1920 |     40 |  0.0000652966 |             f\n",
      "    49 |     1960 |     40 |  0.0011686538 |             f\n",
      "    50 |     2000 |     40 |  0.0022267541 |             f\n",
      "    51 |     2040 |     40 |  0.0023120022 |             f\n",
      "    52 |     2080 |     40 |  0.0023134255 |             f\n",
      "    53 |     2120 |     40 |  0.0023503124 |             f\n",
      "    54 |     2160 |     40 |  0.0025397756 |             f\n",
      "    55 |     2200 |     40 |  0.0003212253 |             f\n",
      "    56 |     2240 |     40 |  0.0003913375 |             f\n",
      "    57 |     2280 |     40 |  0.0005260569 |             f\n",
      "    58 |     2320 |     40 |  0.0088529217 |         ideal\n",
      "    59 |     2360 |     36 |  0.0175243073 |         ideal\n",
      "    60 |     2400 |     34 |  0.0669522450 |         ideal\n",
      "    61 |     2440 |     30 |  0.0032382453 |             f\n",
      "    62 |     2480 |     37 |  0.0132635892 |         ideal\n",
      "    63 |     2520 |     38 |  0.0769172435 |         ideal\n",
      "    64 |     2560 |     38 |  0.0495577952 |         ideal\n",
      "    65 |     2600 |     38 |  0.0094760939 |         ideal\n",
      "    66 |     2640 |     38 |  0.0048559420 |         ideal\n",
      "    67 |     2680 |     40 |  0.0025944008 |             f\n",
      "    68 |     2720 |     40 |  0.0029610293 |         ideal\n",
      "    69 |     2760 |     40 |  0.0001125657 |             f\n",
      "    70 |     2800 |     40 |  0.0056655505 |         nadir\n",
      "    71 |     2840 |     39 |  0.0008394426 |             f\n",
      "    72 |     2880 |     39 |  0.0026656700 |         ideal\n",
      "    73 |     2920 |     38 |  0.0031412372 |             f\n",
      "    74 |     2960 |     38 |  0.0012359280 |             f\n",
      "    75 |     3000 |     38 |  0.0015936186 |             f\n",
      "    76 |     3040 |     40 |  0.0023815469 |             f\n",
      "    77 |     3080 |     40 |  0.0048722843 |             f\n",
      "    78 |     3120 |     40 |  0.0008716698 |             f\n",
      "    79 |     3160 |     40 |  0.0026634990 |             f\n",
      "    80 |     3200 |     40 |  0.0011778215 |             f\n",
      "    81 |     3240 |     40 |  0.0018607880 |             f\n",
      "    82 |     3280 |     40 |  0.0083421939 |         ideal\n",
      "    83 |     3320 |     40 |  0.0015093455 |             f\n",
      "    84 |     3360 |     40 |  0.0059396997 |             f\n",
      "    85 |     3400 |     40 |  0.0040153087 |         ideal\n",
      "    86 |     3440 |     36 |  0.0079257758 |         ideal\n",
      "    87 |     3480 |     33 |  0.0331942523 |         ideal\n",
      "    88 |     3520 |     33 |  0.0066051820 |         ideal\n",
      "    89 |     3560 |     31 |  0.0365404420 |         ideal\n",
      "    90 |     3600 |     33 |  0.0105303873 |         ideal\n",
      "    91 |     3640 |     35 |  0.0294669595 |         nadir\n",
      "    92 |     3680 |     38 |  0.0031548860 |             f\n",
      "    93 |     3720 |     39 |  0.0296308386 |         nadir\n",
      "    94 |     3760 |     37 |  0.0043282371 |         ideal\n",
      "    95 |     3800 |     30 |  0.0538556221 |         ideal\n",
      "    96 |     3840 |     32 |  0.0144621829 |         ideal\n",
      "    97 |     3880 |     36 |  0.0795489465 |         ideal\n",
      "    98 |     3920 |     34 |  0.0260081728 |         ideal\n",
      "    99 |     3960 |     36 |  0.0099866141 |         ideal\n",
      "   100 |     4000 |     36 |  0.0505300819 |         nadir\n"
     ]
    }
   ],
   "source": [
    "algorithm = RVEA(ref_directions, alpha=2.0, adapt_freq=0.0001)\n",
    "\n",
    "resMCDM2 = minimize(problem,\n",
    "               algorithm,\n",
    "               termination=('n_gen', 100),\n",
    "               seed=1,\n",
    "               verbose=True)"
   ]
  },
  {
   "cell_type": "code",
   "execution_count": 29,
   "metadata": {},
   "outputs": [
    {
     "data": {
      "image/png": "[encoded data removed]",
      "text/plain": [
       "<Figure size 360x360 with 1 Axes>"
      ]
     },
     "metadata": {
      "needs_background": "light"
     },
     "output_type": "display_data"
    }
   ],
   "source": [
    "plot(res.F,resMCDM2.F,ref_points,ASF_Sol,0.8,0.8)"
   ]
  },
  {
   "cell_type": "markdown",
   "metadata": {},
   "source": [
    "### R-HV Computation"
   ]
  },
  {
   "cell_type": "code",
   "execution_count": 30,
   "metadata": {},
   "outputs": [
    {
     "name": "stdout",
     "output_type": "stream",
     "text": [
      "[[0.07110194 0.03673126]]\n",
      "[[0.06674044 0.05379967]]\n"
     ]
    }
   ],
   "source": [
    "N = np.zeros([1,2]); N_RoI = np.zeros([1,2]); \n",
    "H_Vol = np.zeros([1,2]); RH_Vol = np.zeros([1,2]); Mod_RH_Vol = np.zeros([1,2]);\n",
    "\n",
    "MCDM_solns = resMCDM2.F[resMCDM2.F[:,1]<0.8]\n",
    "MCDM = MCDM_solns[MCDM_solns[:,0]<0.8]\n",
    "\n",
    "#2-Clusters\n",
    "clust1 = MCDM[MCDM[:,1]>0.4]; clust2 = MCDM[MCDM[:,1]<0.4]\n",
    "\n",
    "#Count of MCDM and MCDM in RoI\n",
    "N[0,:] = [len(clust1),len(clust2)]; \n",
    "\n",
    "#Centroid Computation\n",
    "centro1 = centroid(clust1); centro2 = centroid(clust2)\n",
    "\n",
    "clust1a = RoI_circle(centro1, clust1, r[0,0])\n",
    "clust2a = RoI_circle(centro2, clust2, r[0,1])\n",
    "    \n",
    "#Count of MCDM in RoI\n",
    "N_RoI[0,:] = [len(clust1a),len(clust2a)]\n",
    "\n",
    "#HV Computation \n",
    "ind = HV(ref_point=ref_points[0,:])\n",
    "H_Vol[0,0] =  ind(clust1)\n",
    "\n",
    "ind = HV(ref_point=ref_points[1,:])\n",
    "H_Vol[0,1] = ind(clust2)\n",
    "\n",
    "#R-HV Points Computation\n",
    "RHV_clust1a = Exist_RHV_points(centro1, clust1a, ref_points[0,:])\n",
    "RHV_clust2a = Exist_RHV_points(centro2, clust2a, ref_points[1,:])\n",
    "\n",
    "RHV = np.concatenate([RHV_clust1a,RHV_clust2a],axis=0)\n",
    "\n",
    "#R-HV Computation\n",
    "ind = HV(ref_point=ref_points[0,:])\n",
    "RH_Vol[0,0] =  ind(RHV_clust1a)\n",
    "\n",
    "ind = HV(ref_point=ref_points[1,:])\n",
    "RH_Vol[0,1] = ind(RHV_clust2a)\n",
    "\n",
    "#R-HV Points Computation\n",
    "Mod_RHV_clust1a = Mod_RHV_points(ASF_Sol[0,:], clust1, ref_points[0,:])\n",
    "Mod_RHV_clust2a = Mod_RHV_points(ASF_Sol[1,:], clust2, ref_points[1,:])\n",
    "\n",
    "Mod_RHV = np.concatenate([Mod_RHV_clust1a,Mod_RHV_clust2a],axis=0)\n",
    "\n",
    "#R-HV Computation\n",
    "ind = HV(ref_point=ref_points[0,:])\n",
    "Mod_RH_Vol[0,0] =  ind(Mod_RHV_clust1a)\n",
    "\n",
    "ind = HV(ref_point=ref_points[1,:])\n",
    "Mod_RH_Vol[0,1] = ind(Mod_RHV_clust2a)\n",
    "\n",
    "print(RH_Vol)\n",
    "print(Mod_RH_Vol)"
   ]
  },
  {
   "cell_type": "code",
   "execution_count": 31,
   "metadata": {},
   "outputs": [],
   "source": [
    "# Mod_RHV"
   ]
  },
  {
   "cell_type": "markdown",
   "metadata": {},
   "source": [
    "### New R-HV for RVEA"
   ]
  },
  {
   "cell_type": "code",
   "execution_count": 32,
   "metadata": {},
   "outputs": [
    {
     "name": "stdout",
     "output_type": "stream",
     "text": [
      "=================================================\n",
      "n_gen  |  n_eval  |     f_avg     |     f_min    \n",
      "=================================================\n",
      "     1 |       10 |  2.5035808115 |  1.3096131665\n",
      "     2 |       20 |  1.7233639391 |  1.2389020112\n",
      "     3 |       30 |  1.3238714832 |  1.1917345232\n",
      "     4 |       40 |  1.2779446917 |  1.1917345232\n",
      "     5 |       50 |  1.2372022741 |  1.1860157708\n",
      "     6 |       60 |  1.1921928185 |  1.0422595620\n",
      "     7 |       70 |  1.1232138663 |  1.0422595620\n",
      "     8 |       80 |  1.0668697288 |  1.0399226509\n",
      "     9 |       90 |  1.0481874529 |  1.0399226509\n",
      "    10 |      100 |  1.0428106394 |  1.0397997153\n",
      "    11 |      110 |  1.0411730079 |  1.0397997153\n",
      "    12 |      120 |  1.0400792855 |  1.0389696283\n",
      "    13 |      130 |  1.0395433758 |  1.0389122243\n",
      "    14 |      140 |  1.0391290946 |  1.0373776352\n",
      "    15 |      150 |  1.0389740616 |  1.0373776352\n",
      "    16 |      160 |  1.0388300951 |  1.0373776352\n",
      "    17 |      170 |  1.0386625902 |  1.0373776352\n",
      "    18 |      180 |  1.0382259775 |  1.0373754390\n",
      "    19 |      190 |  1.0378247480 |  1.0373754390\n",
      "    20 |      200 |  1.0376224196 |  1.0373754390\n",
      "    21 |      210 |  1.0373776319 |  1.0373754390\n",
      "    22 |      220 |  1.0373745363 |  1.0373543467\n",
      "    23 |      230 |  1.0373709165 |  1.0373491600\n",
      "    24 |      240 |  1.0373617096 |  1.0373440007\n",
      "    25 |      250 |  1.0373556174 |  1.0373440007\n",
      "    26 |      260 |  1.0373494221 |  1.0373437927\n",
      "    27 |      270 |  1.0373463431 |  1.0373437762\n",
      "    28 |      280 |  1.0373441617 |  1.0373431419\n",
      "    29 |      290 |  1.0373440470 |  1.0373431419\n",
      "    30 |      300 |  1.0373437514 |  1.0373431419\n",
      "    31 |      310 |  1.0373435720 |  1.0373431381\n",
      "    32 |      320 |  1.0373434547 |  1.0373431381\n",
      "    33 |      330 |  1.0373431560 |  1.0373430091\n",
      "    34 |      340 |  1.0373431208 |  1.0373430091\n",
      "    35 |      350 |  1.0373431055 |  1.0373430091\n",
      "    36 |      360 |  1.0373430382 |  1.0373428346\n",
      "    37 |      370 |  1.0373429435 |  1.0373427572\n",
      "    38 |      380 |  1.0373429148 |  1.0373427572\n",
      "    39 |      390 |  1.0373428027 |  1.0373427528\n",
      "    40 |      400 |  1.0373427940 |  1.0373427528\n",
      "    41 |      410 |  1.0373358737 |  1.0372737113\n",
      "    42 |      420 |  1.0373220490 |  1.0372737109\n",
      "    43 |      430 |  1.0373013431 |  1.0372737109\n",
      "    44 |      440 |  1.0372737571 |  1.0372737109\n",
      "    45 |      450 |  1.0372737418 |  1.0372737102\n",
      "    46 |      460 |  1.0372737418 |  1.0372737102\n",
      "    47 |      470 |  1.0372737121 |  1.0372737099\n",
      "    48 |      480 |  1.0372737103 |  1.0372737099\n",
      "    49 |      490 |  1.0372737101 |  1.0372737099\n",
      "    50 |      500 |  1.0372737100 |  1.0372737098\n",
      "=================================================\n",
      "n_gen  |  n_eval  |     f_avg     |     f_min    \n",
      "=================================================\n",
      "     1 |       10 |  1.5393195671 |  1.0333125287\n",
      "     2 |       20 |  1.2815912492 |  1.0333125287\n",
      "     3 |       30 |  1.0937529592 |  1.0333125287\n",
      "     4 |       40 |  1.0450498801 |  0.9947306178\n",
      "     5 |       50 |  1.0185245330 |  0.9947306178\n",
      "     6 |       60 |  1.0120774316 |  0.9947306178\n",
      "     7 |       70 |  1.0035894493 |  0.9947306178\n",
      "     8 |       80 |  0.9972237886 |  0.9928454064\n",
      "     9 |       90 |  0.9948028991 |  0.9916835830\n",
      "    10 |      100 |  0.9936248010 |  0.9916835830\n",
      "    11 |      110 |  0.9933518781 |  0.9916835830\n",
      "    12 |      120 |  0.9930824985 |  0.9916835830\n",
      "    13 |      130 |  0.9924976214 |  0.9916835830\n",
      "    14 |      140 |  0.9921300024 |  0.9915796530\n",
      "    15 |      150 |  0.9917617617 |  0.9915790847\n",
      "    16 |      160 |  0.9916453587 |  0.9915790847\n",
      "    17 |      170 |  0.9916334982 |  0.9915790847\n",
      "    18 |      180 |  0.9916080895 |  0.9915310359\n",
      "    19 |      190 |  0.9915930287 |  0.9915310359\n",
      "    20 |      200 |  0.9915813938 |  0.9915310359\n",
      "    21 |      210 |  0.9915231986 |  0.9911153772\n",
      "    22 |      220 |  0.9915230763 |  0.9911153772\n",
      "    23 |      230 |  0.9904596650 |  0.9860444108\n",
      "    24 |      240 |  0.9898367524 |  0.9860331304\n",
      "    25 |      250 |  0.9891015104 |  0.9857892757\n",
      "    26 |      260 |  0.9876330278 |  0.9857892757\n",
      "    27 |      270 |  0.9876330278 |  0.9857892757\n",
      "    28 |      280 |  0.9860699543 |  0.9851118822\n",
      "    29 |      290 |  0.9858804507 |  0.9851118822\n",
      "    30 |      300 |  0.9855202125 |  0.9846936482\n",
      "    31 |      310 |  0.9853461105 |  0.9846936482\n",
      "    32 |      320 |  0.9848614540 |  0.9846883452\n",
      "    33 |      330 |  0.9847497591 |  0.9846883452\n",
      "    34 |      340 |  0.9847114065 |  0.9846883452\n",
      "    35 |      350 |  0.9846905741 |  0.9846882956\n",
      "    36 |      360 |  0.9846890725 |  0.9846882928\n",
      "    37 |      370 |  0.9846888840 |  0.9846882928\n",
      "    38 |      380 |  0.9846835256 |  0.9846403222\n",
      "    39 |      390 |  0.9846835185 |  0.9846403222\n",
      "    40 |      400 |  0.9846835122 |  0.9846403222\n",
      "    41 |      410 |  0.9846828431 |  0.9846403222\n",
      "    42 |      420 |  0.9846828417 |  0.9846403222\n",
      "    43 |      430 |  0.9846821873 |  0.9846403222\n",
      "    44 |      440 |  0.9846767228 |  0.9846403222\n",
      "    45 |      450 |  0.9846767228 |  0.9846403222\n",
      "    46 |      460 |  0.9846760718 |  0.9846403222\n",
      "    47 |      470 |  0.9846712822 |  0.9846403222\n",
      "    48 |      480 |  0.9846526621 |  0.9846397928\n",
      "    49 |      490 |  0.9846400330 |  0.9846397786\n",
      "    50 |      500 |  0.9846398180 |  0.9846397719\n"
     ]
    }
   ],
   "source": [
    "res_ASF1 = ASF_solution(centro1)\n",
    "ASF_sol1 = problem.evaluate(res_ASF1.X)\n",
    "\n",
    "res_ASF2 = ASF_solution(centro2)\n",
    "ASF_sol2 = problem.evaluate(res_ASF2.X)\n",
    "\n",
    "CS1 = ma.dist(centro1,ASF_sol1)\n",
    "RV_RHV1 = max(1-CS1/CR1,0)*Mod_RH_Vol[0,0]\n",
    "CS2 = ma.dist(centro2,ASF_sol2)\n",
    "RV_RHV2 = max(1-CS2/CR2,0)*Mod_RH_Vol[0,1]\n",
    "\n",
    "RV_RHV = [RV_RHV1, RV_RHV2]"
   ]
  },
  {
   "cell_type": "code",
   "execution_count": 33,
   "metadata": {},
   "outputs": [
    {
     "name": "stdout",
     "output_type": "stream",
     "text": [
      "[[0.07110194 0.03673126]]\n",
      "[0.06306084710323183, 0.052532923362301406]\n"
     ]
    }
   ],
   "source": [
    "print(RH_Vol)\n",
    "print(RV_RHV)"
   ]
  },
  {
   "cell_type": "code",
   "execution_count": 34,
   "metadata": {},
   "outputs": [
    {
     "name": "stdout",
     "output_type": "stream",
     "text": [
      "[[17. 19.]]\n",
      "[[17. 19.]]\n"
     ]
    }
   ],
   "source": [
    "print(N)\n",
    "print(N_RoI)"
   ]
  },
  {
   "cell_type": "code",
   "execution_count": 35,
   "metadata": {},
   "outputs": [
    {
     "data": {
      "text/plain": [
       "<Figure size 720x864 with 0 Axes>"
      ]
     },
     "metadata": {},
     "output_type": "display_data"
    },
    {
     "data": {
      "image/png": "[encoded data removed]",
      "text/plain": [
       "<Figure size 468x468 with 1 Axes>"
      ]
     },
     "metadata": {
      "needs_background": "light"
     },
     "output_type": "display_data"
    }
   ],
   "source": [
    "import matplotlib\n",
    "import matplotlib.pyplot as plt\n",
    "plt.figure(figsize=(10, 12))\n",
    "figure, ax = plt.subplots(figsize=(6.5, 6.5))\n",
    "plt.rcParams['font.size'] = 12\n",
    "plt.scatter(res.F[:, 0],  res.F[:, 1],  s=5, facecolors='k', edgecolors='k',label=\"Pareto front\")\n",
    "plt.scatter(ref_points[:,0], ref_points[:,1], s= 100, marker='*', color='blue',label=\"Ref points\")\n",
    "plt.scatter(MCDM[:,0], MCDM[:,1], s= 10, color='g', edgecolors='g',label=\"MCDM Solns\")\n",
    "plt.scatter(RHV[:,0], RHV[:,1], s= 10, color='c', edgecolors='c',label=\"Exist MCDM Shift\")\n",
    "plt.scatter(Mod_RHV[:,0], Mod_RHV[:,1], s= 10, color='r', edgecolors='r',label=\"New MCDM Shift\")\n",
    "plt.plot([0, ref_points[0,0]], [0, ref_points[0,1]], 'bo', linestyle=\"--\")\n",
    "plt.plot([0, ref_points[1,0]], [0, ref_points[1,1]], 'bo', linestyle=\"--\")\n",
    "\n",
    "centr_HV = centroid(RHV_clust2a); centr_Mod_HV = centroid(Mod_RHV_clust2a)\n",
    "plt.plot([centr_HV[0], ASF_sol2[0]], [centr_HV[1], ASF_sol2[1]], 'k', linestyle=\"--\")\n",
    "plt.scatter(ASF_Sol[0, :],  ASF_Sol[1, :],  s=75, facecolors='violet', edgecolors='k')\n",
    "plt.scatter(centr_Mod_HV[0], centr_Mod_HV[1],  s=30, facecolors='b', edgecolors='b')\n",
    "plt.scatter(ASF_sol2[0], ASF_sol2[1],  s=30, facecolors='b', edgecolors='b')\n",
    "plt.scatter(centr_HV[0], centr_HV[1],  s=30, facecolors='b', edgecolors='b')\n",
    "\n",
    "\n",
    "\n",
    "ax.add_patch(plt.Circle((centro1[0],centro1[1]), r1, facecolor='r', edgecolor='k', alpha=0.2, label=\"$\\delta$-neighbor\"))\n",
    "ax.add_patch(plt.Circle((centro2[0],centro2[1]), r2, facecolor='r', edgecolor='k', alpha=0.2))\n",
    "ax.add_patch(plt.Circle((ASF_Sol[1,0],ASF_Sol[1,1]), ma.dist(centro2,ASF_Sol[1,:]), facecolor='none', \n",
    "                        edgecolor='k',linestyle='-.'))\n",
    "\n",
    "HV_cor1=np.array([[np.min(RHV_clust1a[:,0]),np.max(RHV_clust1a[:,1])],[np.max(RHV_clust1a[:,0]),np.min(RHV_clust1a[:,1])],\n",
    "                    [ref_points[0,0],np.min(RHV_clust1a[:,1])],[ref_points[0,0], ref_points[0,1]], \n",
    "                    [np.min(RHV_clust1a[:,0]),ref_points[0,1]]])\n",
    "p1 = Polygon(HV_cor1, edgecolor='k', facecolor='g', hatch='/', alpha=0.2, label=\"R-HV\")\n",
    "ax.add_patch(p1)\n",
    "\n",
    "HV_cor1a=np.array([[np.min(Mod_RHV_clust1a[:,0]),np.max(Mod_RHV_clust1a[:,1])],\n",
    "                   [np.max(Mod_RHV_clust1a[:,0]),np.min(Mod_RHV_clust1a[:,1])],\n",
    "                    [ref_points[0,0],np.min(Mod_RHV_clust1a[:,1])],[ref_points[0,0], ref_points[0,1]], \n",
    "                    [np.min(Mod_RHV_clust1a[:,0]),ref_points[0,1]]])\n",
    "p1a = Polygon(HV_cor1a, linestyle='-.', linewidth=2.0, edgecolor='k', facecolor='y', hatch='-', alpha=0.2, label=r\"$\\tilde{R}$-HV\")\n",
    "ax.add_patch(p1a)\n",
    "\n",
    "HV_cor2=np.array([[np.min(RHV_clust2a[:,0]),np.max(RHV_clust2a[:,1])],[np.max(RHV_clust2a[:,0]),np.min(RHV_clust2a[:,1])],\n",
    "                    [ref_points[1,0],np.min(RHV_clust2a[:,1])],[ref_points[1,0], ref_points[1,1]], \n",
    "                    [np.min(RHV_clust2a[:,0]),ref_points[1,1]]])\n",
    "p2 = Polygon(HV_cor2, edgecolor='k', facecolor='g', hatch='/', alpha=0.2)\n",
    "ax.add_patch(p2)\n",
    "\n",
    "HV_cor2a=np.array([[np.min(Mod_RHV_clust2a[:,0]),np.max(Mod_RHV_clust2a[:,1])],\n",
    "                   [np.max(Mod_RHV_clust2a[:,0]),np.min(Mod_RHV_clust2a[:,1])],\n",
    "                    [ref_points[1,0],np.min(Mod_RHV_clust2a[:,1])],[ref_points[1,0], ref_points[1,1]], \n",
    "                    [np.min(Mod_RHV_clust2a[:,0]),ref_points[1,1]]])\n",
    "p2a = Polygon(HV_cor2a, linestyle='-.', linewidth=2.0, edgecolor='k', facecolor='y', hatch='-', alpha=0.2)\n",
    "ax.add_patch(p2a)\n",
    "\n",
    "plt.legend(loc=\"upper right\", fontsize=14)\n",
    "\n",
    "plt.plot([0.0], [0.0], 'mo', linestyle=\"--\")\n",
    "plt.text(0.45, 0.9, \"$R_1$\", fontsize=16)\n",
    "plt.text(0.95, 0.4, \"$R_2$\", fontsize=16)\n",
    "plt.text(-0.045, -0.045, \"$O$\", fontsize=16)\n",
    "\n",
    "plt.xlabel('$f_1$',fontsize=18)\n",
    "plt.ylabel('$f_2$',fontsize=18)\n",
    "plt.xticks(fontsize=14)\n",
    "plt.yticks(fontsize=14)\n",
    "plt.grid(color='k', linestyle='--', linewidth=1, alpha=0.1)\n",
    "plt.savefig(\"Ex1_RVEA.pdf\", format=\"pdf\", bbox_inches=\"tight\")\n",
    "# plt.show()"
   ]
  },
  {
   "cell_type": "markdown",
   "metadata": {},
   "source": [
    "### C-TAEA for MCDM Solutions"
   ]
  },
  {
   "cell_type": "code",
   "execution_count": 36,
   "metadata": {
    "scrolled": true
   },
   "outputs": [
    {
     "name": "stdout",
     "output_type": "stream",
     "text": [
      "==========================================================\n",
      "n_gen  |  n_eval  | n_nds  |      eps      |   indicator  \n",
      "==========================================================\n",
      "     1 |       40 |     11 |             - |             -\n",
      "     2 |       80 |     14 |  0.0080770216 |         ideal\n",
      "     3 |      120 |     23 |  0.0323110903 |             f\n",
      "     4 |      160 |     24 |  0.0329408416 |         ideal\n",
      "     5 |      200 |     24 |  0.0040240792 |             f\n",
      "     6 |      240 |     26 |  0.0268426831 |         ideal\n",
      "     7 |      280 |     26 |  0.0079491588 |             f\n",
      "     8 |      320 |     25 |  0.0317373377 |         ideal\n",
      "     9 |      360 |     22 |  0.0056590000 |             f\n",
      "    10 |      400 |     40 |  0.0135073642 |             f\n",
      "    11 |      440 |     40 |  0.0058345423 |             f\n",
      "    12 |      480 |     40 |  0.0054369473 |         ideal\n",
      "    13 |      520 |     40 |  0.0098549931 |         ideal\n",
      "    14 |      560 |     40 |  0.0598887154 |         ideal\n",
      "    15 |      600 |     40 |  0.0024867990 |             f\n",
      "    16 |      640 |     40 |  0.0024682263 |             f\n",
      "    17 |      680 |     40 |  0.0034697113 |             f\n",
      "    18 |      720 |     40 |  0.4499293407 |         ideal\n",
      "    19 |      760 |     40 |  0.0024916138 |             f\n",
      "    20 |      800 |     40 |  0.0030699561 |             f\n",
      "    21 |      840 |     40 |  0.0035150760 |         ideal\n",
      "    22 |      880 |     40 |  0.0117485916 |         ideal\n",
      "    23 |      920 |     40 |  0.0118882619 |         ideal\n",
      "    24 |      960 |     40 |  0.0008127058 |             f\n",
      "    25 |     1000 |     40 |  0.0049976919 |         ideal\n",
      "    26 |     1040 |     40 |  0.0013684176 |             f\n",
      "    27 |     1080 |     40 |  0.0028312717 |             f\n",
      "    28 |     1120 |     40 |  0.0005756432 |             f\n",
      "    29 |     1160 |     40 |  0.0011764035 |             f\n",
      "    30 |     1200 |     40 |  0.0020224325 |             f\n",
      "    31 |     1240 |     40 |  0.0020423843 |             f\n",
      "    32 |     1280 |     40 |  0.0025241707 |             f\n",
      "    33 |     1320 |     40 |  0.0004575765 |             f\n",
      "    34 |     1360 |     40 |  0.0008522803 |             f\n",
      "    35 |     1400 |     40 |  0.0011275939 |             f\n",
      "    36 |     1440 |     40 |  0.0014561042 |             f\n",
      "    37 |     1480 |     40 |  0.0015135627 |             f\n",
      "    38 |     1520 |     40 |  0.0018136175 |             f\n",
      "    39 |     1560 |     40 |  0.0019809881 |             f\n",
      "    40 |     1600 |     40 |  0.0021318050 |             f\n",
      "    41 |     1640 |     40 |  0.0024470345 |             f\n",
      "    42 |     1680 |     40 |  0.0025580343 |             f\n",
      "    43 |     1720 |     40 |  0.0001402258 |             f\n",
      "    44 |     1760 |     40 |  0.0002153737 |             f\n",
      "    45 |     1800 |     40 |  0.0004858926 |             f\n",
      "    46 |     1840 |     40 |  0.0005309144 |             f\n",
      "    47 |     1880 |     40 |  0.0009533903 |             f\n",
      "    48 |     1920 |     40 |  0.0012490401 |             f\n",
      "    49 |     1960 |     40 |  0.0013654122 |             f\n",
      "    50 |     2000 |     40 |  0.0013453903 |             f\n",
      "    51 |     2040 |     40 |  0.0013774175 |             f\n",
      "    52 |     2080 |     40 |  0.0015583169 |             f\n",
      "    53 |     2120 |     40 |  0.0016142019 |             f\n",
      "    54 |     2160 |     40 |  0.0017118102 |             f\n",
      "    55 |     2200 |     40 |  0.0017304900 |             f\n",
      "    56 |     2240 |     40 |  0.0017803753 |             f\n",
      "    57 |     2280 |     40 |  0.0017251559 |             f\n",
      "    58 |     2320 |     40 |  0.0019585605 |             f\n",
      "    59 |     2360 |     40 |  0.0019710899 |             f\n",
      "    60 |     2400 |     40 |  0.0019880190 |             f\n",
      "    61 |     2440 |     40 |  0.0020573527 |             f\n",
      "    62 |     2480 |     40 |  0.0020133401 |             f\n",
      "    63 |     2520 |     40 |  0.0021286595 |             f\n",
      "    64 |     2560 |     40 |  0.0022499366 |             f\n",
      "    65 |     2600 |     40 |  0.0022195954 |             f\n",
      "    66 |     2640 |     40 |  0.0021950644 |             f\n",
      "    67 |     2680 |     40 |  0.0021656938 |             f\n",
      "    68 |     2720 |     40 |  0.0021656938 |             f\n",
      "    69 |     2760 |     40 |  0.0021389549 |             f\n",
      "    70 |     2800 |     40 |  0.0021171867 |             f\n",
      "    71 |     2840 |     40 |  0.0022336356 |             f\n",
      "    72 |     2880 |     40 |  0.0022322091 |             f\n",
      "    73 |     2920 |     40 |  0.0022742677 |             f\n",
      "    74 |     2960 |     40 |  0.0022809897 |             f\n",
      "    75 |     3000 |     40 |  0.0023037963 |             f\n",
      "    76 |     3040 |     40 |  0.0023494432 |             f\n",
      "    77 |     3080 |     40 |  0.0023571961 |             f\n",
      "    78 |     3120 |     40 |  0.0023663428 |             f\n",
      "    79 |     3160 |     40 |  0.0024007438 |             f\n",
      "    80 |     3200 |     40 |  0.0025058540 |             f\n",
      "    81 |     3240 |     40 |  3.128928E-06 |             f\n",
      "    82 |     3280 |     40 |  0.0000436198 |             f\n",
      "    83 |     3320 |     40 |  0.0000468965 |             f\n",
      "    84 |     3360 |     40 |  0.0000658831 |             f\n",
      "    85 |     3400 |     40 |  0.0001493199 |             f\n",
      "    86 |     3440 |     40 |  0.0001536908 |             f\n",
      "    87 |     3480 |     40 |  0.0001743956 |             f\n",
      "    88 |     3520 |     40 |  0.0001745526 |             f\n",
      "    89 |     3560 |     40 |  0.0001796814 |             f\n",
      "    90 |     3600 |     40 |  0.0002268933 |             f\n",
      "    91 |     3640 |     40 |  0.0002374324 |             f\n",
      "    92 |     3680 |     40 |  0.0002376310 |             f\n",
      "    93 |     3720 |     40 |  0.0003428188 |             f\n",
      "    94 |     3760 |     40 |  0.0003623982 |             f\n",
      "    95 |     3800 |     40 |  0.0003846892 |             f\n",
      "    96 |     3840 |     40 |  0.0003846892 |             f\n",
      "    97 |     3880 |     40 |  0.0003937633 |             f\n",
      "    98 |     3920 |     40 |  0.0003937640 |             f\n",
      "    99 |     3960 |     40 |  0.0004200260 |             f\n",
      "   100 |     4000 |     40 |  0.0004258129 |             f\n"
     ]
    }
   ],
   "source": [
    "# reference_directions_C3a\n",
    "algorithm = CTAEA(ref_dirs=ref_directions)\n",
    "\n",
    "# execute the optimization\n",
    "resMCDM3 = minimize(problem,\n",
    "               algorithm,\n",
    "               ('n_gen', 100),\n",
    "               seed=1,\n",
    "               verbose=True\n",
    "               )"
   ]
  },
  {
   "cell_type": "code",
   "execution_count": 37,
   "metadata": {},
   "outputs": [
    {
     "data": {
      "image/png": "[encoded data removed]",
      "text/plain": [
       "<Figure size 360x360 with 1 Axes>"
      ]
     },
     "metadata": {
      "needs_background": "light"
     },
     "output_type": "display_data"
    }
   ],
   "source": [
    "plot(res.F,resMCDM3.F,ref_points,ASF_Sol,0.8,0.8)"
   ]
  },
  {
   "cell_type": "markdown",
   "metadata": {},
   "source": [
    "### R-HV Computation"
   ]
  },
  {
   "cell_type": "code",
   "execution_count": 38,
   "metadata": {},
   "outputs": [
    {
     "name": "stdout",
     "output_type": "stream",
     "text": [
      "[[0.06284819 0.05920831]]\n",
      "[[0.06090676 0.06289186]]\n"
     ]
    }
   ],
   "source": [
    "N = np.zeros([1,2]); N_RoI = np.zeros([1,2]); \n",
    "H_Vol = np.zeros([1,2]); RH_Vol = np.zeros([1,2]); Mod_RH_Vol = np.zeros([1,2]);\n",
    "\n",
    "MCDM_solns = resMCDM3.F[resMCDM3.F[:,1]<0.8]\n",
    "MCDM = MCDM_solns[MCDM_solns[:,0]<0.8]\n",
    "\n",
    "#2-Clusters\n",
    "clust1 = MCDM[MCDM[:,1]>0.4]; clust2 = MCDM[MCDM[:,1]<0.4]\n",
    "\n",
    "#Count of MCDM and MCDM in RoI\n",
    "N[0,:] = [len(clust1),len(clust2)]; \n",
    "\n",
    "#Centroid Computation\n",
    "centro1 = centroid(clust1); centro2 = centroid(clust2)\n",
    "\n",
    "clust1a = RoI_circle(centro1, clust1, r[0,0])\n",
    "clust2a = RoI_circle(centro2, clust2, r[0,1])\n",
    "    \n",
    "#Count of MCDM in RoI\n",
    "N_RoI[0,:] = [len(clust1a),len(clust2a)]\n",
    "\n",
    "#HV Computation \n",
    "ind = HV(ref_point=ref_points[0,:])\n",
    "H_Vol[0,0] =  ind(clust1)\n",
    "\n",
    "ind = HV(ref_point=ref_points[1,:])\n",
    "H_Vol[0,1] = ind(clust2)\n",
    "\n",
    "#R-HV Points Computation\n",
    "RHV_clust1a = Exist_RHV_points(centro1, clust1a, ref_points[0,:])\n",
    "RHV_clust2a = Exist_RHV_points(centro2, clust2a, ref_points[1,:])\n",
    "\n",
    "RHV = np.concatenate([RHV_clust1a,RHV_clust2a],axis=0)\n",
    "\n",
    "#R-HV Computation\n",
    "ind = HV(ref_point=ref_points[0,:])\n",
    "RH_Vol[0,0] =  ind(RHV_clust1a)\n",
    "\n",
    "ind = HV(ref_point=ref_points[1,:])\n",
    "RH_Vol[0,1] = ind(RHV_clust2a)\n",
    "\n",
    "#R-HV Points Computation\n",
    "Mod_RHV_clust1a = Mod_RHV_points(ASF_Sol[0,:], clust1, ref_points[0,:])\n",
    "Mod_RHV_clust2a = Mod_RHV_points(ASF_Sol[1,:], clust2, ref_points[1,:])\n",
    "\n",
    "Mod_RHV = np.concatenate([Mod_RHV_clust1a,Mod_RHV_clust2a],axis=0)\n",
    "\n",
    "#R-HV Computation\n",
    "ind = HV(ref_point=ref_points[0,:])\n",
    "Mod_RH_Vol[0,0] =  ind(Mod_RHV_clust1a)\n",
    "\n",
    "ind = HV(ref_point=ref_points[1,:])\n",
    "Mod_RH_Vol[0,1] = ind(Mod_RHV_clust2a)\n",
    "\n",
    "print(RH_Vol)\n",
    "print(Mod_RH_Vol)"
   ]
  },
  {
   "cell_type": "markdown",
   "metadata": {},
   "source": [
    "### New R-HV for C-TAEA"
   ]
  },
  {
   "cell_type": "code",
   "execution_count": 39,
   "metadata": {},
   "outputs": [
    {
     "name": "stdout",
     "output_type": "stream",
     "text": [
      "=================================================\n",
      "n_gen  |  n_eval  |     f_avg     |     f_min    \n",
      "=================================================\n",
      "     1 |       10 |  2.3605035941 |  1.3736714210\n",
      "     2 |       20 |  1.6326733686 |  1.1608557672\n",
      "     3 |       30 |  1.2925665126 |  1.1166585876\n",
      "     4 |       40 |  1.2366720890 |  1.1166585876\n",
      "     5 |       50 |  1.1939794394 |  1.1166585876\n",
      "     6 |       60 |  1.1395260986 |  1.0961504432\n",
      "     7 |       70 |  1.1147390122 |  1.0726989125\n",
      "     8 |       80 |  1.0964324878 |  1.0600412911\n",
      "     9 |       90 |  1.0713491090 |  1.0517439705\n",
      "    10 |      100 |  1.0630901325 |  1.0395441401\n",
      "    11 |      110 |  1.0556834447 |  1.0395441401\n",
      "    12 |      120 |  1.0462014633 |  1.0395441401\n",
      "    13 |      130 |  1.0411916565 |  1.0376808780\n",
      "    14 |      140 |  1.0406660528 |  1.0376808780\n",
      "    15 |      150 |  1.0390546423 |  1.0375967393\n",
      "    16 |      160 |  1.0382234068 |  1.0364802016\n",
      "    17 |      170 |  1.0376478057 |  1.0356719482\n",
      "    18 |      180 |  1.0372859643 |  1.0356719482\n",
      "    19 |      190 |  1.0367936404 |  1.0353619191\n",
      "    20 |      200 |  1.0362583237 |  1.0353058314\n",
      "    21 |      210 |  1.0357721182 |  1.0353058314\n",
      "    22 |      220 |  1.0354859486 |  1.0352720110\n",
      "    23 |      230 |  1.0353725325 |  1.0352720110\n",
      "    24 |      240 |  1.0353301143 |  1.0352720110\n",
      "    25 |      250 |  1.0353146076 |  1.0352709670\n",
      "    26 |      260 |  1.0353091502 |  1.0352709670\n",
      "    27 |      270 |  1.0353018416 |  1.0352709670\n",
      "    28 |      280 |  1.0352812662 |  1.0352643241\n",
      "    29 |      290 |  1.0352775566 |  1.0352643241\n",
      "    30 |      300 |  1.0352741476 |  1.0352643241\n",
      "    31 |      310 |  1.0352703263 |  1.0352643241\n",
      "    32 |      320 |  1.0352698996 |  1.0352643241\n",
      "    33 |      330 |  1.0352695413 |  1.0352643241\n",
      "    34 |      340 |  1.0352670364 |  1.0352630731\n",
      "    35 |      350 |  1.0352658812 |  1.0352630731\n",
      "    36 |      360 |  1.0352644571 |  1.0352630731\n",
      "    37 |      370 |  1.0352639690 |  1.0352630731\n",
      "    38 |      380 |  1.0352638834 |  1.0352630731\n",
      "    39 |      390 |  1.0352638829 |  1.0352630731\n",
      "    40 |      400 |  1.0352638810 |  1.0352630731\n",
      "    41 |      410 |  1.0352637600 |  1.0352630731\n",
      "    42 |      420 |  1.0352635507 |  1.0352630668\n",
      "    43 |      430 |  1.0352632748 |  1.0352630026\n",
      "    44 |      440 |  1.0352630224 |  1.0352627266\n",
      "    45 |      450 |  1.0352629399 |  1.0352626766\n",
      "    46 |      460 |  1.0352628250 |  1.0352626683\n",
      "    47 |      470 |  1.0352627916 |  1.0352626678\n",
      "    48 |      480 |  1.0352626414 |  1.0352623678\n",
      "    49 |      490 |  1.0352626031 |  1.0352623678\n",
      "    50 |      500 |  1.0352625648 |  1.0352623531\n",
      "=================================================\n",
      "n_gen  |  n_eval  |     f_avg     |     f_min    \n",
      "=================================================\n",
      "     1 |       10 |  1.6599761954 |  1.0795388788\n",
      "     2 |       20 |  1.3360269549 |  1.0795388788\n",
      "     3 |       30 |  1.1864873177 |  1.0795388788\n",
      "     4 |       40 |  1.1291989251 |  1.0795388788\n",
      "     5 |       50 |  1.0806606659 |  1.0467407527\n",
      "     6 |       60 |  1.0614259801 |  1.0457979423\n",
      "     7 |       70 |  1.0515166671 |  1.0412819272\n",
      "     8 |       80 |  1.0485023091 |  1.0412819272\n",
      "     9 |       90 |  1.0467165305 |  1.0412819272\n",
      "    10 |      100 |  1.0453011689 |  1.0401176704\n",
      "    11 |      110 |  1.0438573201 |  1.0401176704\n",
      "    12 |      120 |  1.0416957085 |  1.0371531702\n",
      "    13 |      130 |  1.0403374407 |  1.0371531702\n",
      "    14 |      140 |  1.0394090611 |  1.0371531702\n",
      "    15 |      150 |  1.0385808856 |  1.0353517962\n",
      "    16 |      160 |  1.0379533750 |  1.0345548042\n",
      "    17 |      170 |  1.0363102048 |  1.0334146397\n",
      "    18 |      180 |  1.0361597732 |  1.0334146397\n",
      "    19 |      190 |  1.0343747173 |  1.0329632692\n",
      "    20 |      200 |  1.0337816850 |  1.0329632692\n",
      "    21 |      210 |  1.0330119025 |  1.0313711525\n",
      "    22 |      220 |  1.0328850578 |  1.0313711525\n",
      "    23 |      230 |  1.0327092102 |  1.0313711525\n",
      "    24 |      240 |  1.0323093575 |  1.0293100637\n",
      "    25 |      250 |  1.0317506031 |  1.0293100629\n",
      "    26 |      260 |  1.0310919179 |  1.0292721671\n",
      "    27 |      270 |  1.0306640578 |  1.0292521453\n",
      "    28 |      280 |  1.0302873651 |  1.0292028342\n",
      "    29 |      290 |  1.0290885637 |  1.0276086011\n",
      "    30 |      300 |  1.0288512695 |  1.0276057171\n",
      "    31 |      310 |  1.0286146897 |  1.0276057171\n",
      "    32 |      320 |  1.0285796717 |  1.0276057171\n",
      "    33 |      330 |  1.0283572585 |  1.0272616402\n",
      "    34 |      340 |  1.0275300967 |  1.0272616402\n",
      "    35 |      350 |  1.0274112781 |  1.0272604670\n",
      "    36 |      360 |  1.0272631036 |  1.0272578539\n",
      "    37 |      370 |  1.0272600435 |  1.0272577192\n",
      "    38 |      380 |  1.0272586189 |  1.0272570953\n",
      "    39 |      390 |  1.0272574640 |  1.0272552807\n",
      "    40 |      400 |  1.0272565916 |  1.0272552807\n",
      "    41 |      410 |  1.0272489453 |  1.0271860702\n",
      "    42 |      420 |  1.0272482323 |  1.0271860702\n",
      "    43 |      430 |  1.0272406838 |  1.0271860702\n",
      "    44 |      440 |  1.0271890582 |  1.0268153446\n",
      "    45 |      450 |  1.0271757016 |  1.0268153446\n",
      "    46 |      460 |  1.0271256582 |  1.0268153446\n",
      "    47 |      470 |  1.0271191099 |  1.0268153446\n",
      "    48 |      480 |  1.0270007044 |  1.0268141444\n",
      "    49 |      490 |  1.0268894932 |  1.0268141412\n",
      "    50 |      500 |  1.0268149519 |  1.0268141339\n"
     ]
    }
   ],
   "source": [
    "res_ASF1 = ASF_solution(centro1)\n",
    "ASF_sol1 = problem.evaluate(res_ASF1.X)\n",
    "\n",
    "res_ASF2 = ASF_solution(centro2)\n",
    "ASF_sol2 = problem.evaluate(res_ASF2.X)\n",
    "\n",
    "CS1 = ma.dist(centro1,ASF_sol1)\n",
    "CTA_RHV1 = max(1-CS1/CR1,0)*Mod_RH_Vol[0,0]\n",
    "CS2 = ma.dist(centro2,ASF_sol2)\n",
    "CTA_RHV2 = max(1-CS2/CR2,0)*Mod_RH_Vol[0,1]\n",
    "\n",
    "CTA_RHV = [CTA_RHV1, CTA_RHV2]"
   ]
  },
  {
   "cell_type": "code",
   "execution_count": 40,
   "metadata": {},
   "outputs": [
    {
     "name": "stdout",
     "output_type": "stream",
     "text": [
      "[[0.06284819 0.05920831]]\n",
      "[0.05785447939676207, 0.0605958136805569]\n"
     ]
    }
   ],
   "source": [
    "print(RH_Vol)\n",
    "print(CTA_RHV)"
   ]
  },
  {
   "cell_type": "code",
   "execution_count": 41,
   "metadata": {},
   "outputs": [
    {
     "name": "stdout",
     "output_type": "stream",
     "text": [
      "[[20. 20.]]\n",
      "[[20. 20.]]\n"
     ]
    }
   ],
   "source": [
    "print(N)\n",
    "print(N_RoI)"
   ]
  },
  {
   "cell_type": "code",
   "execution_count": 42,
   "metadata": {
    "scrolled": true
   },
   "outputs": [
    {
     "data": {
      "text/plain": [
       "<Figure size 720x864 with 0 Axes>"
      ]
     },
     "metadata": {},
     "output_type": "display_data"
    },
    {
     "data": {
      "image/png": "[encoded data removed]",
      "text/plain": [
       "<Figure size 468x468 with 1 Axes>"
      ]
     },
     "metadata": {
      "needs_background": "light"
     },
     "output_type": "display_data"
    }
   ],
   "source": [
    "import matplotlib\n",
    "import matplotlib.pyplot as plt\n",
    "plt.figure(figsize=(10, 12))\n",
    "figure, ax = plt.subplots(figsize=(6.5, 6.5))\n",
    "plt.rcParams['font.size'] = 12\n",
    "plt.scatter(res.F[:, 0],  res.F[:, 1],  s=5, facecolors='k', edgecolors='k',label=\"Pareto front\")\n",
    "plt.scatter(ref_points[:,0], ref_points[:,1], s= 100, marker='*', color='blue',label=\"Ref points\")\n",
    "plt.scatter(MCDM[:,0], MCDM[:,1], s= 10, color='g', edgecolors='g',label=\"MCDM Solns\")\n",
    "plt.scatter(RHV[:,0], RHV[:,1], s= 10, color='c', edgecolors='c',label=\"Exist MCDM Shift\")\n",
    "plt.scatter(Mod_RHV[:,0], Mod_RHV[:,1], s= 10, color='r', edgecolors='r',label=\"New MCDM Shift\")\n",
    "plt.plot([0, ref_points[0,0]], [0, ref_points[0,1]], 'bo', linestyle=\"--\")\n",
    "plt.plot([0, ref_points[1,0]], [0, ref_points[1,1]], 'bo', linestyle=\"--\")\n",
    "plt.scatter(ASF_Sol[0, :],  ASF_Sol[1, :],  s=75, facecolors='violet', edgecolors='k')\n",
    "\n",
    "ax.add_patch(plt.Circle((centro1[0],centro1[1]), r1, facecolor='r', edgecolor='k', alpha=0.2, label=\"$\\delta$-neighbor\"))\n",
    "ax.add_patch(plt.Circle((centro2[0],centro2[1]), r2, facecolor='r', edgecolor='k', alpha=0.2))\n",
    "\n",
    "HV_cor1=np.array([[np.min(RHV_clust1a[:,0]),np.max(RHV_clust1a[:,1])],[np.max(RHV_clust1a[:,0]),np.min(RHV_clust1a[:,1])],\n",
    "                    [ref_points[0,0],np.min(RHV_clust1a[:,1])],[ref_points[0,0], ref_points[0,1]], \n",
    "                    [np.min(RHV_clust1a[:,0]),ref_points[0,1]]])\n",
    "p1 = Polygon(HV_cor1, edgecolor='k', facecolor='g', hatch='/', alpha=0.2, label=\"R-HV\")\n",
    "ax.add_patch(p1)\n",
    "\n",
    "HV_cor1a=np.array([[np.min(Mod_RHV_clust1a[:,0]),np.max(Mod_RHV_clust1a[:,1])],\n",
    "                   [np.max(Mod_RHV_clust1a[:,0]),np.min(Mod_RHV_clust1a[:,1])],\n",
    "                    [ref_points[0,0],np.min(Mod_RHV_clust1a[:,1])],[ref_points[0,0], ref_points[0,1]], \n",
    "                    [np.min(Mod_RHV_clust1a[:,0]),ref_points[0,1]]])\n",
    "p1a = Polygon(HV_cor1a, linestyle='-.', linewidth=2.0, edgecolor='k', facecolor='y', hatch='-', alpha=0.2, label=r\"$\\tilde{R}$-HV\")\n",
    "ax.add_patch(p1a)\n",
    "\n",
    "HV_cor2=np.array([[np.min(RHV_clust2a[:,0]),np.max(RHV_clust2a[:,1])],[np.max(RHV_clust2a[:,0]),np.min(RHV_clust2a[:,1])],\n",
    "                    [ref_points[1,0],np.min(RHV_clust2a[:,1])],[ref_points[1,0], ref_points[1,1]], \n",
    "                    [np.min(RHV_clust2a[:,0]),ref_points[1,1]]])\n",
    "p2 = Polygon(HV_cor2, edgecolor='k', facecolor='g', hatch='/', alpha=0.2)\n",
    "ax.add_patch(p2)\n",
    "\n",
    "HV_cor2a=np.array([[np.min(Mod_RHV_clust2a[:,0]),np.max(Mod_RHV_clust2a[:,1])],\n",
    "                   [np.max(Mod_RHV_clust2a[:,0]),np.min(Mod_RHV_clust2a[:,1])],\n",
    "                    [ref_points[1,0],np.min(Mod_RHV_clust2a[:,1])],[ref_points[1,0], ref_points[1,1]], \n",
    "                    [np.min(Mod_RHV_clust2a[:,0]),ref_points[1,1]]])\n",
    "p2a = Polygon(HV_cor2a, linestyle='-.', linewidth=2.0, edgecolor='k', facecolor='y', hatch='-', alpha=0.2)\n",
    "ax.add_patch(p2a)\n",
    "\n",
    "plt.legend(loc=\"upper right\", fontsize=14)\n",
    "\n",
    "plt.plot([0.0], [0.0], 'mo', linestyle=\"--\")\n",
    "plt.text(0.45, 0.9, \"$R_1$\", fontsize=16)\n",
    "plt.text(0.95, 0.4, \"$R_2$\", fontsize=16)\n",
    "plt.text(-0.045, -0.045, \"$O$\", fontsize=16)\n",
    "\n",
    "plt.xlabel('$f_1$',fontsize=18)\n",
    "plt.ylabel('$f_2$',fontsize=18)\n",
    "plt.xticks(fontsize=14)\n",
    "plt.yticks(fontsize=14)\n",
    "plt.grid(color='k', linestyle='--', linewidth=1, alpha=0.1)\n",
    "plt.savefig(\"Ex1_CTAEA.pdf\", format=\"pdf\", bbox_inches=\"tight\")\n",
    "# plt.show()"
   ]
  },
  {
   "cell_type": "code",
   "execution_count": null,
   "metadata": {},
   "outputs": [],
   "source": []
  }
 ],
 "metadata": {
  "kernelspec": {
   "display_name": "Python 3",
   "language": "python",
   "name": "python3"
  },
  "language_info": {
   "codemirror_mode": {
    "name": "ipython",
    "version": 3
   },
   "file_extension": ".py",
   "mimetype": "text/x-python",
   "name": "python",
   "nbconvert_exporter": "python",
   "pygments_lexer": "ipython3",
   "version": "3.8.5"
  }
 },
 "nbformat": 4,
 "nbformat_minor": 4
}
